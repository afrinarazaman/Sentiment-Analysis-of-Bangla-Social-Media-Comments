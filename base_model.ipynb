{
  "nbformat": 4,
  "nbformat_minor": 0,
  "metadata": {
    "colab": {
      "provenance": [],
      "gpuType": "T4",
      "authorship_tag": "ABX9TyOClPW6H1d9IGFZVbVGvHec",
      "include_colab_link": true
    },
    "kernelspec": {
      "name": "python3",
      "display_name": "Python 3"
    },
    "language_info": {
      "name": "python"
    },
    "accelerator": "GPU",
    "widgets": {
      "application/vnd.jupyter.widget-state+json": {
        "c88ec359b3fe48a192e448220598b96f": {
          "model_module": "@jupyter-widgets/controls",
          "model_name": "HBoxModel",
          "model_module_version": "1.5.0",
          "state": {
            "_dom_classes": [],
            "_model_module": "@jupyter-widgets/controls",
            "_model_module_version": "1.5.0",
            "_model_name": "HBoxModel",
            "_view_count": null,
            "_view_module": "@jupyter-widgets/controls",
            "_view_module_version": "1.5.0",
            "_view_name": "HBoxView",
            "box_style": "",
            "children": [
              "IPY_MODEL_b3737503d56444f4af9a949689dbd1e9",
              "IPY_MODEL_7af7ad7337744e068cb5dde5f45e075e",
              "IPY_MODEL_8facb3c9c9384de3ba5799d19b6b4185"
            ],
            "layout": "IPY_MODEL_0846795f7d0b4aaaa9c49d4a3cb2153f"
          }
        },
        "b3737503d56444f4af9a949689dbd1e9": {
          "model_module": "@jupyter-widgets/controls",
          "model_name": "HTMLModel",
          "model_module_version": "1.5.0",
          "state": {
            "_dom_classes": [],
            "_model_module": "@jupyter-widgets/controls",
            "_model_module_version": "1.5.0",
            "_model_name": "HTMLModel",
            "_view_count": null,
            "_view_module": "@jupyter-widgets/controls",
            "_view_module_version": "1.5.0",
            "_view_name": "HTMLView",
            "description": "",
            "description_tooltip": null,
            "layout": "IPY_MODEL_0396b2d3e6ea45258e2ac34996b0252a",
            "placeholder": "​",
            "style": "IPY_MODEL_b64fbd71d3f84b539395f424c2a9b7f5",
            "value": "Pandas Apply: 100%"
          }
        },
        "7af7ad7337744e068cb5dde5f45e075e": {
          "model_module": "@jupyter-widgets/controls",
          "model_name": "FloatProgressModel",
          "model_module_version": "1.5.0",
          "state": {
            "_dom_classes": [],
            "_model_module": "@jupyter-widgets/controls",
            "_model_module_version": "1.5.0",
            "_model_name": "FloatProgressModel",
            "_view_count": null,
            "_view_module": "@jupyter-widgets/controls",
            "_view_module_version": "1.5.0",
            "_view_name": "ProgressView",
            "bar_style": "success",
            "description": "",
            "description_tooltip": null,
            "layout": "IPY_MODEL_40d191999b764eff8ef8011f8e03b49d",
            "max": 35200,
            "min": 0,
            "orientation": "horizontal",
            "style": "IPY_MODEL_0deb83505b1f4d7f9ee9cd54cf9d8cf2",
            "value": 35200
          }
        },
        "8facb3c9c9384de3ba5799d19b6b4185": {
          "model_module": "@jupyter-widgets/controls",
          "model_name": "HTMLModel",
          "model_module_version": "1.5.0",
          "state": {
            "_dom_classes": [],
            "_model_module": "@jupyter-widgets/controls",
            "_model_module_version": "1.5.0",
            "_model_name": "HTMLModel",
            "_view_count": null,
            "_view_module": "@jupyter-widgets/controls",
            "_view_module_version": "1.5.0",
            "_view_name": "HTMLView",
            "description": "",
            "description_tooltip": null,
            "layout": "IPY_MODEL_797953a481d4400fb5d4712983cdee05",
            "placeholder": "​",
            "style": "IPY_MODEL_1743c746ebe144b3803a04b6da46571e",
            "value": " 35200/35200 [00:12&lt;00:00, 1499.41it/s]"
          }
        },
        "0846795f7d0b4aaaa9c49d4a3cb2153f": {
          "model_module": "@jupyter-widgets/base",
          "model_name": "LayoutModel",
          "model_module_version": "1.2.0",
          "state": {
            "_model_module": "@jupyter-widgets/base",
            "_model_module_version": "1.2.0",
            "_model_name": "LayoutModel",
            "_view_count": null,
            "_view_module": "@jupyter-widgets/base",
            "_view_module_version": "1.2.0",
            "_view_name": "LayoutView",
            "align_content": null,
            "align_items": null,
            "align_self": null,
            "border": null,
            "bottom": null,
            "display": null,
            "flex": null,
            "flex_flow": null,
            "grid_area": null,
            "grid_auto_columns": null,
            "grid_auto_flow": null,
            "grid_auto_rows": null,
            "grid_column": null,
            "grid_gap": null,
            "grid_row": null,
            "grid_template_areas": null,
            "grid_template_columns": null,
            "grid_template_rows": null,
            "height": null,
            "justify_content": null,
            "justify_items": null,
            "left": null,
            "margin": null,
            "max_height": null,
            "max_width": null,
            "min_height": null,
            "min_width": null,
            "object_fit": null,
            "object_position": null,
            "order": null,
            "overflow": null,
            "overflow_x": null,
            "overflow_y": null,
            "padding": null,
            "right": null,
            "top": null,
            "visibility": null,
            "width": null
          }
        },
        "0396b2d3e6ea45258e2ac34996b0252a": {
          "model_module": "@jupyter-widgets/base",
          "model_name": "LayoutModel",
          "model_module_version": "1.2.0",
          "state": {
            "_model_module": "@jupyter-widgets/base",
            "_model_module_version": "1.2.0",
            "_model_name": "LayoutModel",
            "_view_count": null,
            "_view_module": "@jupyter-widgets/base",
            "_view_module_version": "1.2.0",
            "_view_name": "LayoutView",
            "align_content": null,
            "align_items": null,
            "align_self": null,
            "border": null,
            "bottom": null,
            "display": null,
            "flex": null,
            "flex_flow": null,
            "grid_area": null,
            "grid_auto_columns": null,
            "grid_auto_flow": null,
            "grid_auto_rows": null,
            "grid_column": null,
            "grid_gap": null,
            "grid_row": null,
            "grid_template_areas": null,
            "grid_template_columns": null,
            "grid_template_rows": null,
            "height": null,
            "justify_content": null,
            "justify_items": null,
            "left": null,
            "margin": null,
            "max_height": null,
            "max_width": null,
            "min_height": null,
            "min_width": null,
            "object_fit": null,
            "object_position": null,
            "order": null,
            "overflow": null,
            "overflow_x": null,
            "overflow_y": null,
            "padding": null,
            "right": null,
            "top": null,
            "visibility": null,
            "width": null
          }
        },
        "b64fbd71d3f84b539395f424c2a9b7f5": {
          "model_module": "@jupyter-widgets/controls",
          "model_name": "DescriptionStyleModel",
          "model_module_version": "1.5.0",
          "state": {
            "_model_module": "@jupyter-widgets/controls",
            "_model_module_version": "1.5.0",
            "_model_name": "DescriptionStyleModel",
            "_view_count": null,
            "_view_module": "@jupyter-widgets/base",
            "_view_module_version": "1.2.0",
            "_view_name": "StyleView",
            "description_width": ""
          }
        },
        "40d191999b764eff8ef8011f8e03b49d": {
          "model_module": "@jupyter-widgets/base",
          "model_name": "LayoutModel",
          "model_module_version": "1.2.0",
          "state": {
            "_model_module": "@jupyter-widgets/base",
            "_model_module_version": "1.2.0",
            "_model_name": "LayoutModel",
            "_view_count": null,
            "_view_module": "@jupyter-widgets/base",
            "_view_module_version": "1.2.0",
            "_view_name": "LayoutView",
            "align_content": null,
            "align_items": null,
            "align_self": null,
            "border": null,
            "bottom": null,
            "display": null,
            "flex": null,
            "flex_flow": null,
            "grid_area": null,
            "grid_auto_columns": null,
            "grid_auto_flow": null,
            "grid_auto_rows": null,
            "grid_column": null,
            "grid_gap": null,
            "grid_row": null,
            "grid_template_areas": null,
            "grid_template_columns": null,
            "grid_template_rows": null,
            "height": null,
            "justify_content": null,
            "justify_items": null,
            "left": null,
            "margin": null,
            "max_height": null,
            "max_width": null,
            "min_height": null,
            "min_width": null,
            "object_fit": null,
            "object_position": null,
            "order": null,
            "overflow": null,
            "overflow_x": null,
            "overflow_y": null,
            "padding": null,
            "right": null,
            "top": null,
            "visibility": null,
            "width": null
          }
        },
        "0deb83505b1f4d7f9ee9cd54cf9d8cf2": {
          "model_module": "@jupyter-widgets/controls",
          "model_name": "ProgressStyleModel",
          "model_module_version": "1.5.0",
          "state": {
            "_model_module": "@jupyter-widgets/controls",
            "_model_module_version": "1.5.0",
            "_model_name": "ProgressStyleModel",
            "_view_count": null,
            "_view_module": "@jupyter-widgets/base",
            "_view_module_version": "1.2.0",
            "_view_name": "StyleView",
            "bar_color": null,
            "description_width": ""
          }
        },
        "797953a481d4400fb5d4712983cdee05": {
          "model_module": "@jupyter-widgets/base",
          "model_name": "LayoutModel",
          "model_module_version": "1.2.0",
          "state": {
            "_model_module": "@jupyter-widgets/base",
            "_model_module_version": "1.2.0",
            "_model_name": "LayoutModel",
            "_view_count": null,
            "_view_module": "@jupyter-widgets/base",
            "_view_module_version": "1.2.0",
            "_view_name": "LayoutView",
            "align_content": null,
            "align_items": null,
            "align_self": null,
            "border": null,
            "bottom": null,
            "display": null,
            "flex": null,
            "flex_flow": null,
            "grid_area": null,
            "grid_auto_columns": null,
            "grid_auto_flow": null,
            "grid_auto_rows": null,
            "grid_column": null,
            "grid_gap": null,
            "grid_row": null,
            "grid_template_areas": null,
            "grid_template_columns": null,
            "grid_template_rows": null,
            "height": null,
            "justify_content": null,
            "justify_items": null,
            "left": null,
            "margin": null,
            "max_height": null,
            "max_width": null,
            "min_height": null,
            "min_width": null,
            "object_fit": null,
            "object_position": null,
            "order": null,
            "overflow": null,
            "overflow_x": null,
            "overflow_y": null,
            "padding": null,
            "right": null,
            "top": null,
            "visibility": null,
            "width": null
          }
        },
        "1743c746ebe144b3803a04b6da46571e": {
          "model_module": "@jupyter-widgets/controls",
          "model_name": "DescriptionStyleModel",
          "model_module_version": "1.5.0",
          "state": {
            "_model_module": "@jupyter-widgets/controls",
            "_model_module_version": "1.5.0",
            "_model_name": "DescriptionStyleModel",
            "_view_count": null,
            "_view_module": "@jupyter-widgets/base",
            "_view_module_version": "1.2.0",
            "_view_name": "StyleView",
            "description_width": ""
          }
        },
        "067c4188883d478190af2648f738cdbc": {
          "model_module": "@jupyter-widgets/controls",
          "model_name": "HBoxModel",
          "model_module_version": "1.5.0",
          "state": {
            "_dom_classes": [],
            "_model_module": "@jupyter-widgets/controls",
            "_model_module_version": "1.5.0",
            "_model_name": "HBoxModel",
            "_view_count": null,
            "_view_module": "@jupyter-widgets/controls",
            "_view_module_version": "1.5.0",
            "_view_name": "HBoxView",
            "box_style": "",
            "children": [
              "IPY_MODEL_d0845de841554a04a0bb847d97f51bee",
              "IPY_MODEL_6442dc3a4df64f62a05e923bddb4cc61",
              "IPY_MODEL_e273556a05c1400199bf81b6a601f83b"
            ],
            "layout": "IPY_MODEL_93a6f5b8dddf4c4c9c16570347fdd699"
          }
        },
        "d0845de841554a04a0bb847d97f51bee": {
          "model_module": "@jupyter-widgets/controls",
          "model_name": "HTMLModel",
          "model_module_version": "1.5.0",
          "state": {
            "_dom_classes": [],
            "_model_module": "@jupyter-widgets/controls",
            "_model_module_version": "1.5.0",
            "_model_name": "HTMLModel",
            "_view_count": null,
            "_view_module": "@jupyter-widgets/controls",
            "_view_module_version": "1.5.0",
            "_view_name": "HTMLView",
            "description": "",
            "description_tooltip": null,
            "layout": "IPY_MODEL_f910de70c2ac49ffa2c09bdbf31aafe1",
            "placeholder": "​",
            "style": "IPY_MODEL_b9fe6eddd9fd41a69fa4b83a0993de94",
            "value": "Pandas Apply: 100%"
          }
        },
        "6442dc3a4df64f62a05e923bddb4cc61": {
          "model_module": "@jupyter-widgets/controls",
          "model_name": "FloatProgressModel",
          "model_module_version": "1.5.0",
          "state": {
            "_dom_classes": [],
            "_model_module": "@jupyter-widgets/controls",
            "_model_module_version": "1.5.0",
            "_model_name": "FloatProgressModel",
            "_view_count": null,
            "_view_module": "@jupyter-widgets/controls",
            "_view_module_version": "1.5.0",
            "_view_name": "ProgressView",
            "bar_style": "success",
            "description": "",
            "description_tooltip": null,
            "layout": "IPY_MODEL_7d4f1aaa180d48ec8e27a321f4ae99cc",
            "max": 8801,
            "min": 0,
            "orientation": "horizontal",
            "style": "IPY_MODEL_e7b5a9d65b884df0ad228204349a9ba6",
            "value": 8801
          }
        },
        "e273556a05c1400199bf81b6a601f83b": {
          "model_module": "@jupyter-widgets/controls",
          "model_name": "HTMLModel",
          "model_module_version": "1.5.0",
          "state": {
            "_dom_classes": [],
            "_model_module": "@jupyter-widgets/controls",
            "_model_module_version": "1.5.0",
            "_model_name": "HTMLModel",
            "_view_count": null,
            "_view_module": "@jupyter-widgets/controls",
            "_view_module_version": "1.5.0",
            "_view_name": "HTMLView",
            "description": "",
            "description_tooltip": null,
            "layout": "IPY_MODEL_730111b979d641b0a15fb87b14f20622",
            "placeholder": "​",
            "style": "IPY_MODEL_9c47f94751814ed089857dc091b94b9c",
            "value": " 8801/8801 [00:01&lt;00:00, 7372.47it/s]"
          }
        },
        "93a6f5b8dddf4c4c9c16570347fdd699": {
          "model_module": "@jupyter-widgets/base",
          "model_name": "LayoutModel",
          "model_module_version": "1.2.0",
          "state": {
            "_model_module": "@jupyter-widgets/base",
            "_model_module_version": "1.2.0",
            "_model_name": "LayoutModel",
            "_view_count": null,
            "_view_module": "@jupyter-widgets/base",
            "_view_module_version": "1.2.0",
            "_view_name": "LayoutView",
            "align_content": null,
            "align_items": null,
            "align_self": null,
            "border": null,
            "bottom": null,
            "display": null,
            "flex": null,
            "flex_flow": null,
            "grid_area": null,
            "grid_auto_columns": null,
            "grid_auto_flow": null,
            "grid_auto_rows": null,
            "grid_column": null,
            "grid_gap": null,
            "grid_row": null,
            "grid_template_areas": null,
            "grid_template_columns": null,
            "grid_template_rows": null,
            "height": null,
            "justify_content": null,
            "justify_items": null,
            "left": null,
            "margin": null,
            "max_height": null,
            "max_width": null,
            "min_height": null,
            "min_width": null,
            "object_fit": null,
            "object_position": null,
            "order": null,
            "overflow": null,
            "overflow_x": null,
            "overflow_y": null,
            "padding": null,
            "right": null,
            "top": null,
            "visibility": null,
            "width": null
          }
        },
        "f910de70c2ac49ffa2c09bdbf31aafe1": {
          "model_module": "@jupyter-widgets/base",
          "model_name": "LayoutModel",
          "model_module_version": "1.2.0",
          "state": {
            "_model_module": "@jupyter-widgets/base",
            "_model_module_version": "1.2.0",
            "_model_name": "LayoutModel",
            "_view_count": null,
            "_view_module": "@jupyter-widgets/base",
            "_view_module_version": "1.2.0",
            "_view_name": "LayoutView",
            "align_content": null,
            "align_items": null,
            "align_self": null,
            "border": null,
            "bottom": null,
            "display": null,
            "flex": null,
            "flex_flow": null,
            "grid_area": null,
            "grid_auto_columns": null,
            "grid_auto_flow": null,
            "grid_auto_rows": null,
            "grid_column": null,
            "grid_gap": null,
            "grid_row": null,
            "grid_template_areas": null,
            "grid_template_columns": null,
            "grid_template_rows": null,
            "height": null,
            "justify_content": null,
            "justify_items": null,
            "left": null,
            "margin": null,
            "max_height": null,
            "max_width": null,
            "min_height": null,
            "min_width": null,
            "object_fit": null,
            "object_position": null,
            "order": null,
            "overflow": null,
            "overflow_x": null,
            "overflow_y": null,
            "padding": null,
            "right": null,
            "top": null,
            "visibility": null,
            "width": null
          }
        },
        "b9fe6eddd9fd41a69fa4b83a0993de94": {
          "model_module": "@jupyter-widgets/controls",
          "model_name": "DescriptionStyleModel",
          "model_module_version": "1.5.0",
          "state": {
            "_model_module": "@jupyter-widgets/controls",
            "_model_module_version": "1.5.0",
            "_model_name": "DescriptionStyleModel",
            "_view_count": null,
            "_view_module": "@jupyter-widgets/base",
            "_view_module_version": "1.2.0",
            "_view_name": "StyleView",
            "description_width": ""
          }
        },
        "7d4f1aaa180d48ec8e27a321f4ae99cc": {
          "model_module": "@jupyter-widgets/base",
          "model_name": "LayoutModel",
          "model_module_version": "1.2.0",
          "state": {
            "_model_module": "@jupyter-widgets/base",
            "_model_module_version": "1.2.0",
            "_model_name": "LayoutModel",
            "_view_count": null,
            "_view_module": "@jupyter-widgets/base",
            "_view_module_version": "1.2.0",
            "_view_name": "LayoutView",
            "align_content": null,
            "align_items": null,
            "align_self": null,
            "border": null,
            "bottom": null,
            "display": null,
            "flex": null,
            "flex_flow": null,
            "grid_area": null,
            "grid_auto_columns": null,
            "grid_auto_flow": null,
            "grid_auto_rows": null,
            "grid_column": null,
            "grid_gap": null,
            "grid_row": null,
            "grid_template_areas": null,
            "grid_template_columns": null,
            "grid_template_rows": null,
            "height": null,
            "justify_content": null,
            "justify_items": null,
            "left": null,
            "margin": null,
            "max_height": null,
            "max_width": null,
            "min_height": null,
            "min_width": null,
            "object_fit": null,
            "object_position": null,
            "order": null,
            "overflow": null,
            "overflow_x": null,
            "overflow_y": null,
            "padding": null,
            "right": null,
            "top": null,
            "visibility": null,
            "width": null
          }
        },
        "e7b5a9d65b884df0ad228204349a9ba6": {
          "model_module": "@jupyter-widgets/controls",
          "model_name": "ProgressStyleModel",
          "model_module_version": "1.5.0",
          "state": {
            "_model_module": "@jupyter-widgets/controls",
            "_model_module_version": "1.5.0",
            "_model_name": "ProgressStyleModel",
            "_view_count": null,
            "_view_module": "@jupyter-widgets/base",
            "_view_module_version": "1.2.0",
            "_view_name": "StyleView",
            "bar_color": null,
            "description_width": ""
          }
        },
        "730111b979d641b0a15fb87b14f20622": {
          "model_module": "@jupyter-widgets/base",
          "model_name": "LayoutModel",
          "model_module_version": "1.2.0",
          "state": {
            "_model_module": "@jupyter-widgets/base",
            "_model_module_version": "1.2.0",
            "_model_name": "LayoutModel",
            "_view_count": null,
            "_view_module": "@jupyter-widgets/base",
            "_view_module_version": "1.2.0",
            "_view_name": "LayoutView",
            "align_content": null,
            "align_items": null,
            "align_self": null,
            "border": null,
            "bottom": null,
            "display": null,
            "flex": null,
            "flex_flow": null,
            "grid_area": null,
            "grid_auto_columns": null,
            "grid_auto_flow": null,
            "grid_auto_rows": null,
            "grid_column": null,
            "grid_gap": null,
            "grid_row": null,
            "grid_template_areas": null,
            "grid_template_columns": null,
            "grid_template_rows": null,
            "height": null,
            "justify_content": null,
            "justify_items": null,
            "left": null,
            "margin": null,
            "max_height": null,
            "max_width": null,
            "min_height": null,
            "min_width": null,
            "object_fit": null,
            "object_position": null,
            "order": null,
            "overflow": null,
            "overflow_x": null,
            "overflow_y": null,
            "padding": null,
            "right": null,
            "top": null,
            "visibility": null,
            "width": null
          }
        },
        "9c47f94751814ed089857dc091b94b9c": {
          "model_module": "@jupyter-widgets/controls",
          "model_name": "DescriptionStyleModel",
          "model_module_version": "1.5.0",
          "state": {
            "_model_module": "@jupyter-widgets/controls",
            "_model_module_version": "1.5.0",
            "_model_name": "DescriptionStyleModel",
            "_view_count": null,
            "_view_module": "@jupyter-widgets/base",
            "_view_module_version": "1.2.0",
            "_view_name": "StyleView",
            "description_width": ""
          }
        }
      }
    }
  },
  "cells": [
    {
      "cell_type": "markdown",
      "metadata": {
        "id": "view-in-github",
        "colab_type": "text"
      },
      "source": [
        "<a href=\"https://colab.research.google.com/github/afrinarazaman/Sentiment-Analysis-of-Bangla-Social-Media-Comments/blob/main/base_model.ipynb\" target=\"_parent\"><img src=\"https://colab.research.google.com/assets/colab-badge.svg\" alt=\"Open In Colab\"/></a>"
      ]
    },
    {
      "cell_type": "code",
      "execution_count": null,
      "metadata": {
        "colab": {
          "base_uri": "https://localhost:8080/"
        },
        "id": "RRSLvIxHtVTh",
        "outputId": "3318a80a-b8a9-4414-b234-c9ab0d5d5a56"
      },
      "outputs": [
        {
          "output_type": "stream",
          "name": "stdout",
          "text": [
            "Mounted at /content/drive\n"
          ]
        }
      ],
      "source": [
        "from google.colab import drive\n",
        "drive.mount('/content/drive')"
      ]
    },
    {
      "cell_type": "code",
      "source": [
        "import pandas as pd\n",
        "import seaborn as sns\n",
        "import matplotlib.pyplot as plt\n",
        "import numpy as np"
      ],
      "metadata": {
        "id": "XFDiTbx9toZl"
      },
      "execution_count": null,
      "outputs": []
    },
    {
      "cell_type": "code",
      "source": [
        "df = pd.read_csv('/content/drive/MyDrive/dataset.csv')"
      ],
      "metadata": {
        "id": "VGoQm97kuw9U"
      },
      "execution_count": null,
      "outputs": []
    },
    {
      "cell_type": "code",
      "source": [
        "df.head(2)"
      ],
      "metadata": {
        "colab": {
          "base_uri": "https://localhost:8080/",
          "height": 164
        },
        "id": "rSPDT6X6uz3k",
        "outputId": "e1f93d57-1e47-4eb6-86c8-7bd28f84b187"
      },
      "execution_count": null,
      "outputs": [
        {
          "output_type": "execute_result",
          "data": {
            "text/plain": [
              "                                             comment Category  Gender  \\\n",
              "0  ওই হালার পুত এখন কি মদ খাওয়ার সময় রাতের বেলা...    Actor  Female   \n",
              "1  ঘরে বসে শুট করতে কেমন লেগেছে? ক্যামেরাতে কে ছি...   Singer    Male   \n",
              "\n",
              "   comment react number      label  \n",
              "0                   1.0     sexual  \n",
              "1                   2.0  not bully  "
            ],
            "text/html": [
              "\n",
              "  <div id=\"df-5bdfffd6-7d2b-420c-9093-7bfcd08ca960\" class=\"colab-df-container\">\n",
              "    <div>\n",
              "<style scoped>\n",
              "    .dataframe tbody tr th:only-of-type {\n",
              "        vertical-align: middle;\n",
              "    }\n",
              "\n",
              "    .dataframe tbody tr th {\n",
              "        vertical-align: top;\n",
              "    }\n",
              "\n",
              "    .dataframe thead th {\n",
              "        text-align: right;\n",
              "    }\n",
              "</style>\n",
              "<table border=\"1\" class=\"dataframe\">\n",
              "  <thead>\n",
              "    <tr style=\"text-align: right;\">\n",
              "      <th></th>\n",
              "      <th>comment</th>\n",
              "      <th>Category</th>\n",
              "      <th>Gender</th>\n",
              "      <th>comment react number</th>\n",
              "      <th>label</th>\n",
              "    </tr>\n",
              "  </thead>\n",
              "  <tbody>\n",
              "    <tr>\n",
              "      <th>0</th>\n",
              "      <td>ওই হালার পুত এখন কি মদ খাওয়ার সময় রাতের বেলা...</td>\n",
              "      <td>Actor</td>\n",
              "      <td>Female</td>\n",
              "      <td>1.0</td>\n",
              "      <td>sexual</td>\n",
              "    </tr>\n",
              "    <tr>\n",
              "      <th>1</th>\n",
              "      <td>ঘরে বসে শুট করতে কেমন লেগেছে? ক্যামেরাতে কে ছি...</td>\n",
              "      <td>Singer</td>\n",
              "      <td>Male</td>\n",
              "      <td>2.0</td>\n",
              "      <td>not bully</td>\n",
              "    </tr>\n",
              "  </tbody>\n",
              "</table>\n",
              "</div>\n",
              "    <div class=\"colab-df-buttons\">\n",
              "\n",
              "  <div class=\"colab-df-container\">\n",
              "    <button class=\"colab-df-convert\" onclick=\"convertToInteractive('df-5bdfffd6-7d2b-420c-9093-7bfcd08ca960')\"\n",
              "            title=\"Convert this dataframe to an interactive table.\"\n",
              "            style=\"display:none;\">\n",
              "\n",
              "  <svg xmlns=\"http://www.w3.org/2000/svg\" height=\"24px\" viewBox=\"0 -960 960 960\">\n",
              "    <path d=\"M120-120v-720h720v720H120Zm60-500h600v-160H180v160Zm220 220h160v-160H400v160Zm0 220h160v-160H400v160ZM180-400h160v-160H180v160Zm440 0h160v-160H620v160ZM180-180h160v-160H180v160Zm440 0h160v-160H620v160Z\"/>\n",
              "  </svg>\n",
              "    </button>\n",
              "\n",
              "  <style>\n",
              "    .colab-df-container {\n",
              "      display:flex;\n",
              "      gap: 12px;\n",
              "    }\n",
              "\n",
              "    .colab-df-convert {\n",
              "      background-color: #E8F0FE;\n",
              "      border: none;\n",
              "      border-radius: 50%;\n",
              "      cursor: pointer;\n",
              "      display: none;\n",
              "      fill: #1967D2;\n",
              "      height: 32px;\n",
              "      padding: 0 0 0 0;\n",
              "      width: 32px;\n",
              "    }\n",
              "\n",
              "    .colab-df-convert:hover {\n",
              "      background-color: #E2EBFA;\n",
              "      box-shadow: 0px 1px 2px rgba(60, 64, 67, 0.3), 0px 1px 3px 1px rgba(60, 64, 67, 0.15);\n",
              "      fill: #174EA6;\n",
              "    }\n",
              "\n",
              "    .colab-df-buttons div {\n",
              "      margin-bottom: 4px;\n",
              "    }\n",
              "\n",
              "    [theme=dark] .colab-df-convert {\n",
              "      background-color: #3B4455;\n",
              "      fill: #D2E3FC;\n",
              "    }\n",
              "\n",
              "    [theme=dark] .colab-df-convert:hover {\n",
              "      background-color: #434B5C;\n",
              "      box-shadow: 0px 1px 3px 1px rgba(0, 0, 0, 0.15);\n",
              "      filter: drop-shadow(0px 1px 2px rgba(0, 0, 0, 0.3));\n",
              "      fill: #FFFFFF;\n",
              "    }\n",
              "  </style>\n",
              "\n",
              "    <script>\n",
              "      const buttonEl =\n",
              "        document.querySelector('#df-5bdfffd6-7d2b-420c-9093-7bfcd08ca960 button.colab-df-convert');\n",
              "      buttonEl.style.display =\n",
              "        google.colab.kernel.accessAllowed ? 'block' : 'none';\n",
              "\n",
              "      async function convertToInteractive(key) {\n",
              "        const element = document.querySelector('#df-5bdfffd6-7d2b-420c-9093-7bfcd08ca960');\n",
              "        const dataTable =\n",
              "          await google.colab.kernel.invokeFunction('convertToInteractive',\n",
              "                                                    [key], {});\n",
              "        if (!dataTable) return;\n",
              "\n",
              "        const docLinkHtml = 'Like what you see? Visit the ' +\n",
              "          '<a target=\"_blank\" href=https://colab.research.google.com/notebooks/data_table.ipynb>data table notebook</a>'\n",
              "          + ' to learn more about interactive tables.';\n",
              "        element.innerHTML = '';\n",
              "        dataTable['output_type'] = 'display_data';\n",
              "        await google.colab.output.renderOutput(dataTable, element);\n",
              "        const docLink = document.createElement('div');\n",
              "        docLink.innerHTML = docLinkHtml;\n",
              "        element.appendChild(docLink);\n",
              "      }\n",
              "    </script>\n",
              "  </div>\n",
              "\n",
              "\n",
              "    <div id=\"df-325c6448-8c49-4b99-9e78-1772df9c360f\">\n",
              "      <button class=\"colab-df-quickchart\" onclick=\"quickchart('df-325c6448-8c49-4b99-9e78-1772df9c360f')\"\n",
              "                title=\"Suggest charts\"\n",
              "                style=\"display:none;\">\n",
              "\n",
              "<svg xmlns=\"http://www.w3.org/2000/svg\" height=\"24px\"viewBox=\"0 0 24 24\"\n",
              "     width=\"24px\">\n",
              "    <g>\n",
              "        <path d=\"M19 3H5c-1.1 0-2 .9-2 2v14c0 1.1.9 2 2 2h14c1.1 0 2-.9 2-2V5c0-1.1-.9-2-2-2zM9 17H7v-7h2v7zm4 0h-2V7h2v10zm4 0h-2v-4h2v4z\"/>\n",
              "    </g>\n",
              "</svg>\n",
              "      </button>\n",
              "\n",
              "<style>\n",
              "  .colab-df-quickchart {\n",
              "      --bg-color: #E8F0FE;\n",
              "      --fill-color: #1967D2;\n",
              "      --hover-bg-color: #E2EBFA;\n",
              "      --hover-fill-color: #174EA6;\n",
              "      --disabled-fill-color: #AAA;\n",
              "      --disabled-bg-color: #DDD;\n",
              "  }\n",
              "\n",
              "  [theme=dark] .colab-df-quickchart {\n",
              "      --bg-color: #3B4455;\n",
              "      --fill-color: #D2E3FC;\n",
              "      --hover-bg-color: #434B5C;\n",
              "      --hover-fill-color: #FFFFFF;\n",
              "      --disabled-bg-color: #3B4455;\n",
              "      --disabled-fill-color: #666;\n",
              "  }\n",
              "\n",
              "  .colab-df-quickchart {\n",
              "    background-color: var(--bg-color);\n",
              "    border: none;\n",
              "    border-radius: 50%;\n",
              "    cursor: pointer;\n",
              "    display: none;\n",
              "    fill: var(--fill-color);\n",
              "    height: 32px;\n",
              "    padding: 0;\n",
              "    width: 32px;\n",
              "  }\n",
              "\n",
              "  .colab-df-quickchart:hover {\n",
              "    background-color: var(--hover-bg-color);\n",
              "    box-shadow: 0 1px 2px rgba(60, 64, 67, 0.3), 0 1px 3px 1px rgba(60, 64, 67, 0.15);\n",
              "    fill: var(--button-hover-fill-color);\n",
              "  }\n",
              "\n",
              "  .colab-df-quickchart-complete:disabled,\n",
              "  .colab-df-quickchart-complete:disabled:hover {\n",
              "    background-color: var(--disabled-bg-color);\n",
              "    fill: var(--disabled-fill-color);\n",
              "    box-shadow: none;\n",
              "  }\n",
              "\n",
              "  .colab-df-spinner {\n",
              "    border: 2px solid var(--fill-color);\n",
              "    border-color: transparent;\n",
              "    border-bottom-color: var(--fill-color);\n",
              "    animation:\n",
              "      spin 1s steps(1) infinite;\n",
              "  }\n",
              "\n",
              "  @keyframes spin {\n",
              "    0% {\n",
              "      border-color: transparent;\n",
              "      border-bottom-color: var(--fill-color);\n",
              "      border-left-color: var(--fill-color);\n",
              "    }\n",
              "    20% {\n",
              "      border-color: transparent;\n",
              "      border-left-color: var(--fill-color);\n",
              "      border-top-color: var(--fill-color);\n",
              "    }\n",
              "    30% {\n",
              "      border-color: transparent;\n",
              "      border-left-color: var(--fill-color);\n",
              "      border-top-color: var(--fill-color);\n",
              "      border-right-color: var(--fill-color);\n",
              "    }\n",
              "    40% {\n",
              "      border-color: transparent;\n",
              "      border-right-color: var(--fill-color);\n",
              "      border-top-color: var(--fill-color);\n",
              "    }\n",
              "    60% {\n",
              "      border-color: transparent;\n",
              "      border-right-color: var(--fill-color);\n",
              "    }\n",
              "    80% {\n",
              "      border-color: transparent;\n",
              "      border-right-color: var(--fill-color);\n",
              "      border-bottom-color: var(--fill-color);\n",
              "    }\n",
              "    90% {\n",
              "      border-color: transparent;\n",
              "      border-bottom-color: var(--fill-color);\n",
              "    }\n",
              "  }\n",
              "</style>\n",
              "\n",
              "      <script>\n",
              "        async function quickchart(key) {\n",
              "          const quickchartButtonEl =\n",
              "            document.querySelector('#' + key + ' button');\n",
              "          quickchartButtonEl.disabled = true;  // To prevent multiple clicks.\n",
              "          quickchartButtonEl.classList.add('colab-df-spinner');\n",
              "          try {\n",
              "            const charts = await google.colab.kernel.invokeFunction(\n",
              "                'suggestCharts', [key], {});\n",
              "          } catch (error) {\n",
              "            console.error('Error during call to suggestCharts:', error);\n",
              "          }\n",
              "          quickchartButtonEl.classList.remove('colab-df-spinner');\n",
              "          quickchartButtonEl.classList.add('colab-df-quickchart-complete');\n",
              "        }\n",
              "        (() => {\n",
              "          let quickchartButtonEl =\n",
              "            document.querySelector('#df-325c6448-8c49-4b99-9e78-1772df9c360f button');\n",
              "          quickchartButtonEl.style.display =\n",
              "            google.colab.kernel.accessAllowed ? 'block' : 'none';\n",
              "        })();\n",
              "      </script>\n",
              "    </div>\n",
              "\n",
              "    </div>\n",
              "  </div>\n"
            ],
            "application/vnd.google.colaboratory.intrinsic+json": {
              "type": "dataframe",
              "variable_name": "df",
              "summary": "{\n  \"name\": \"df\",\n  \"rows\": 44001,\n  \"fields\": [\n    {\n      \"column\": \"comment\",\n      \"properties\": {\n        \"dtype\": \"string\",\n        \"num_unique_values\": 43567,\n        \"samples\": [\n          \"\\u09a4\\u09c7\\u09be\\u09b0 \\u09ac\\u09be\\u09aa \\u09af\\u09c7 \\u09a4\\u09c7\\u09be\\u09b0\\u09c7 \\u099c\\u09a8\\u09cd\\u09ae \\u09a6\\u09bf\\u099b\\u09c7 \\u09b8\\u09c7\\u099f\\u09be \\u0995\\u09bf \\u09a4\\u09c1\\u0987 \\u09a6\\u09c7\\u0996\\u099b\\u09c7\\u09be\\u09b8.......\\u09b8\\u09c7\\u09b9\\u09c7\\u09a4\\u09c1 \\u09a4\\u09c1\\u0987 \\u09a6\\u09c7\\u0996\\u09c7\\u09be\\u09b8 \\u09a8\\u09be\\u0987 ...\\u09a4\\u09be\\u09b9\\u09b2\\u09c7 \\u09a4\\u09c7\\u09be\\u09b0 \\u098f\\u0987 \\u09ac\\u09be\\u09aa \\u09a4\\u09c7\\u09be\\u09b0 \\u0986\\u09b8\\u09b2 \\u09ac\\u09be\\u09aa \\u09a8\\u09be....\\u09a4\\u09be\\u0987 \\u098f\\u09b0 \\u09ae\\u09be\\u09a8\\u09c7 \\u09a6\\u09be\\u09dc\\u09be\\u09b2\\u09cb \\u09a4\\u09c1\\u0987 \\u099c\\u09be\\u09b0\\u099c \\u09b8\\u09a8\\u09cd\\u09a4\\u09be\\u09a8....\\u09a4\\u09c7\\u09be\\u09b0 \\u099c\\u09a8\\u09cd\\u09ae \\u0995\\u09a8\\u09a1\\u09ae \\u09b0\\u09cd\\u09a6\\u09c2\\u0998\\u099f\\u09a8\\u09be\\u09df....\",\n          \"\\u098f\\u09b8\\u09ac \\u0995\\u09c1\\u09b2\\u09be\\u0999\\u09cd\\u0997\\u09be\\u09b0\\u09a6\\u09c7\\u09b0 \\u099c\\u09a8\\u09cd\\u09af\\u0987 \\u0986\\u099c\\u0995\\u09be\\u09b2 \\u09af\\u09a4 \\u09a6\\u09c1\\u09b0\\u09cd\\u09af\\u09cb\\u0997 \\u0986\\u09b0 \\u09a6\\u09c1\\u09b0\\u09cd\\u09ad\\u09cb\\u0997\",\n          \"\\u0986\\u09b2\\u09cd\\u09b2\\u09be\\u09b9 \\u09ac\\u09b2\\u09c7 \\u09a6\\u09bf\\u09df\\u09c7\\u099b\\u09c7\\u09a8,, \\u0986\\u09b0\\u09ac \\u099c\\u09be\\u09a4\\u09bf \\u098f\\u0995\\u09a6\\u09bf\\u09a8 \\u0985\\u09a8\\u09c7\\u0995 \\u09ac\\u09dc\\u09b2\\u09cb\\u0995 \\u09b9\\u09ac\\u09c7, \\u09a4\\u09be\\u09b0\\u09be \\u099c\\u09c0\\u09a8\\u09be \\u09ac\\u09cd\\u09af\\u09be\\u09ad\\u09bf\\u099a\\u09be\\u09b0\\u09c7 \\u09b2\\u09bf\\u09aa\\u09cd\\u09a4 \\u09b9\\u09ac\\u09c7, \\u0986\\u0995\\u09be\\u09b6\\u099a\\u09c1\\u09ae\\u09cd\\u09ac\\u09bf \\u09a6\\u09be\\u09b2\\u09be\\u09a8 \\u09ac\\u09be\\u09a8\\u09be\\u09ac\\u09c7, \\u0987\\u09b9\\u09c1\\u09a6\\u09c0\\u09b0\\u09be \\u09a5\\u09be\\u09b0\\u09cd\\u09a1 \\u099f\\u09cd\\u09af\\u09be\\u09ae\\u09cd\\u09aa\\u09b2 \\u09ac\\u09be\\u09a8\\u09be\\u09ac\\u09c7, \\u09ae\\u09b9\\u09bf\\u09b2\\u09be\\u09a6\\u09c7\\u09b0 \\u09ac\\u09bf\\u0995\\u09cd\\u09b0\\u09df\\u0995\\u09b0\\u09cd\\u09ae\\u09c0 \\u09ac\\u09be\\u09a8\\u09bf\\u09df\\u09c7 \\u0995\\u09cd\\u09b0\\u09c7\\u09a4\\u09be \\u0986\\u0995\\u09b0\\u09cd\\u09b7\\u09a8 \\u0995\\u09b0\\u09be \\u09b9\\u09ac\\u09c7\\u0964 \\u098f\\u09b8\\u09ac \\u0995\\u09bf\\u09a8\\u09cd\\u09a4\\u09c1 \\u0986\\u09b2\\u09cd\\u09b2\\u09be\\u09b9 \\u09b9\\u09be\\u099c\\u09be\\u09b0 \\u09ac\\u099b\\u09b0 \\u0986\\u0997\\u09c7\\u0987 \\u09ac\\u09b2\\u09c7 \\u09a6\\u09bf\\u09df\\u09c7\\u099b\\u09bf\\u09b2\\u09c7\\u09a8\\u0964 \\u09af\\u09be \\u098f\\u0996\\u09a8 \\u09aa\\u09cd\\u09b0\\u09ae\\u09be\\u09a8\\u09bf\\u09a4 \\u09b9\\u09df\\u0964 \\u098f\\u09b8\\u09ac \\u099c\\u09bf\\u09a8\\u09bf\\u09b8 \\u0995\\u09cb\\u09a8 \\u09a7\\u09b0\\u09cd\\u09ae \\u09a4\\u09c7 \\u0986\\u0997\\u09c7\\u0987 \\u09ac\\u09b2\\u09be \\u0986\\u099b\\u09c7 \\u0986\\u09ae\\u09bf \\u099c\\u09be\\u09a8\\u09bf \\u09a8\\u09be\\u0964 \\u0995\\u09bf\\u09a8\\u09cd\\u09a4\\u09c1 \\u098f\\u0997\\u09c1\\u09b2\\u09cb \\u09a6\\u09c7\\u0996\\u09be\\u09b0 \\u09aa\\u09b0\\u09c7\\u0993 \\u09af\\u09be\\u09a6\\u09c7\\u09b0 \\u099a\\u09cb\\u0996 \\u0996\\u09cb\\u09b2\\u09c7 \\u09a8\\u09be \\u09a4\\u09be\\u09b0\\u09be \\u09a4\\u09cb \\u09ac\\u09dc\\u0987 \\u09ae\\u09c2\\u09b0\\u09cd\\u0996\\u0964\\u0995\\u09be\\u09b0\\u09a8 \\u0986\\u09b2\\u09cd\\u09b2\\u09be\\u09b9 \\u09ac\\u09b2\\u09c7\\u099b\\u09c7\\u09a8, \\u0995\\u09c1\\u09b0\\u0986\\u09a8 \\u09b6\\u09b0\\u09c0\\u09ab \\u09a4\\u09bf\\u09a8\\u09bf \\u0995\\u09bf\\u09df\\u09be\\u09ae\\u09a4\\u09c7\\u09b0 \\u0986\\u0997 \\u09aa\\u09b0\\u09cd\\u09af\\u09a8\\u09cd\\u09a4 \\u09ac\\u09b2\\u09ac\\u09a4 \\u09b0\\u09be\\u0996\\u09ac\\u09c7\\u09a8\\u0964 \\u0987\\u09b8\\u09b2\\u09be\\u09ae\\u09c7 \\u09ea\\u099f\\u09be \\u09ac\\u09bf\\u09df\\u09c7 \\u0995\\u09b0\\u09a4\\u09c7 \\u09ac\\u09b2\\u09be \\u0986\\u099b\\u09c7 \\u09af\\u09be\\u09a4\\u09c7 \\u09a8\\u099c\\u09b0 \\u09a8\\u09bf\\u099a\\u09c1 \\u09b9\\u09df\\u0964 \\u09aa\\u09b0\\u09a8\\u09be\\u09b0\\u09c0\\u09b0 \\u09a6\\u09bf\\u0995\\u09c7 \\u09a4\\u09be\\u0995\\u09be\\u09a4\\u09c7 \\u09a8\\u09be \\u09b9\\u09df\\u0964 \\u09aa\\u09b0\\u0995\\u09c0\\u09df\\u09be \\u0995\\u09b0\\u09a4\\u09c7 \\u09ac\\u09b2\\u09be \\u09b9\\u09df\\u09a8\\u09bf \\u09a4\\u09cb! \\u098f\\u0995\\u099f\\u09be \\u0985\\u09ac\\u09c8\\u09a7 \\u09b8\\u09ae\\u09cd\\u09aa\\u09b0\\u09cd\\u0995\\u09c7\\u09b0 \\u099a\\u09c7\\u09df\\u09c7 \\u09ea\\u099f\\u09be \\u09ac\\u09c8\\u09a7 \\u09b8\\u09ae\\u09cd\\u09aa\\u09b0\\u09cd\\u0995 \\u0985\\u09a8\\u09c7\\u0995 \\u09ad\\u09be\\u09b2\\u09cb\\u0964\"\n        ],\n        \"semantic_type\": \"\",\n        \"description\": \"\"\n      }\n    },\n    {\n      \"column\": \"Category\",\n      \"properties\": {\n        \"dtype\": \"category\",\n        \"num_unique_values\": 5,\n        \"samples\": [\n          \"Singer\",\n          \"Social\",\n          \"Sports\"\n        ],\n        \"semantic_type\": \"\",\n        \"description\": \"\"\n      }\n    },\n    {\n      \"column\": \"Gender\",\n      \"properties\": {\n        \"dtype\": \"category\",\n        \"num_unique_values\": 2,\n        \"samples\": [\n          \"Male\",\n          \"Female\"\n        ],\n        \"semantic_type\": \"\",\n        \"description\": \"\"\n      }\n    },\n    {\n      \"column\": \"comment react number\",\n      \"properties\": {\n        \"dtype\": \"number\",\n        \"std\": 6.671492115197327,\n        \"min\": 0.0,\n        \"max\": 428.0,\n        \"num_unique_values\": 114,\n        \"samples\": [\n          91.0,\n          4.0\n        ],\n        \"semantic_type\": \"\",\n        \"description\": \"\"\n      }\n    },\n    {\n      \"column\": \"label\",\n      \"properties\": {\n        \"dtype\": \"category\",\n        \"num_unique_values\": 5,\n        \"samples\": [\n          \"not bully\",\n          \"threat\"\n        ],\n        \"semantic_type\": \"\",\n        \"description\": \"\"\n      }\n    }\n  ]\n}"
            }
          },
          "metadata": {},
          "execution_count": 4
        }
      ]
    },
    {
      "cell_type": "code",
      "source": [
        "df['label'].value_counts()"
      ],
      "metadata": {
        "colab": {
          "base_uri": "https://localhost:8080/",
          "height": 272
        },
        "id": "xTTrAdMKu1r8",
        "outputId": "18224375-d817-43fd-eaa9-97491022edf3"
      },
      "execution_count": null,
      "outputs": [
        {
          "output_type": "execute_result",
          "data": {
            "text/plain": [
              "label\n",
              "not bully    15340\n",
              "troll        10462\n",
              "sexual        8928\n",
              "religious     7577\n",
              "threat        1694\n",
              "Name: count, dtype: int64"
            ],
            "text/html": [
              "<div>\n",
              "<style scoped>\n",
              "    .dataframe tbody tr th:only-of-type {\n",
              "        vertical-align: middle;\n",
              "    }\n",
              "\n",
              "    .dataframe tbody tr th {\n",
              "        vertical-align: top;\n",
              "    }\n",
              "\n",
              "    .dataframe thead th {\n",
              "        text-align: right;\n",
              "    }\n",
              "</style>\n",
              "<table border=\"1\" class=\"dataframe\">\n",
              "  <thead>\n",
              "    <tr style=\"text-align: right;\">\n",
              "      <th></th>\n",
              "      <th>count</th>\n",
              "    </tr>\n",
              "    <tr>\n",
              "      <th>label</th>\n",
              "      <th></th>\n",
              "    </tr>\n",
              "  </thead>\n",
              "  <tbody>\n",
              "    <tr>\n",
              "      <th>not bully</th>\n",
              "      <td>15340</td>\n",
              "    </tr>\n",
              "    <tr>\n",
              "      <th>troll</th>\n",
              "      <td>10462</td>\n",
              "    </tr>\n",
              "    <tr>\n",
              "      <th>sexual</th>\n",
              "      <td>8928</td>\n",
              "    </tr>\n",
              "    <tr>\n",
              "      <th>religious</th>\n",
              "      <td>7577</td>\n",
              "    </tr>\n",
              "    <tr>\n",
              "      <th>threat</th>\n",
              "      <td>1694</td>\n",
              "    </tr>\n",
              "  </tbody>\n",
              "</table>\n",
              "</div><br><label><b>dtype:</b> int64</label>"
            ]
          },
          "metadata": {},
          "execution_count": 5
        }
      ]
    },
    {
      "cell_type": "code",
      "source": [
        "df.describe()"
      ],
      "metadata": {
        "colab": {
          "base_uri": "https://localhost:8080/",
          "height": 300
        },
        "id": "5-ueybvku42K",
        "outputId": "54d3a88f-2464-4109-a695-acc6200d02a2"
      },
      "execution_count": null,
      "outputs": [
        {
          "output_type": "execute_result",
          "data": {
            "text/plain": [
              "       comment react number\n",
              "count          43998.000000\n",
              "mean               1.180849\n",
              "std                6.671492\n",
              "min                0.000000\n",
              "25%                0.000000\n",
              "50%                0.000000\n",
              "75%                1.000000\n",
              "max              428.000000"
            ],
            "text/html": [
              "\n",
              "  <div id=\"df-f20e7694-fc9d-4856-b753-ffbe5577bdd6\" class=\"colab-df-container\">\n",
              "    <div>\n",
              "<style scoped>\n",
              "    .dataframe tbody tr th:only-of-type {\n",
              "        vertical-align: middle;\n",
              "    }\n",
              "\n",
              "    .dataframe tbody tr th {\n",
              "        vertical-align: top;\n",
              "    }\n",
              "\n",
              "    .dataframe thead th {\n",
              "        text-align: right;\n",
              "    }\n",
              "</style>\n",
              "<table border=\"1\" class=\"dataframe\">\n",
              "  <thead>\n",
              "    <tr style=\"text-align: right;\">\n",
              "      <th></th>\n",
              "      <th>comment react number</th>\n",
              "    </tr>\n",
              "  </thead>\n",
              "  <tbody>\n",
              "    <tr>\n",
              "      <th>count</th>\n",
              "      <td>43998.000000</td>\n",
              "    </tr>\n",
              "    <tr>\n",
              "      <th>mean</th>\n",
              "      <td>1.180849</td>\n",
              "    </tr>\n",
              "    <tr>\n",
              "      <th>std</th>\n",
              "      <td>6.671492</td>\n",
              "    </tr>\n",
              "    <tr>\n",
              "      <th>min</th>\n",
              "      <td>0.000000</td>\n",
              "    </tr>\n",
              "    <tr>\n",
              "      <th>25%</th>\n",
              "      <td>0.000000</td>\n",
              "    </tr>\n",
              "    <tr>\n",
              "      <th>50%</th>\n",
              "      <td>0.000000</td>\n",
              "    </tr>\n",
              "    <tr>\n",
              "      <th>75%</th>\n",
              "      <td>1.000000</td>\n",
              "    </tr>\n",
              "    <tr>\n",
              "      <th>max</th>\n",
              "      <td>428.000000</td>\n",
              "    </tr>\n",
              "  </tbody>\n",
              "</table>\n",
              "</div>\n",
              "    <div class=\"colab-df-buttons\">\n",
              "\n",
              "  <div class=\"colab-df-container\">\n",
              "    <button class=\"colab-df-convert\" onclick=\"convertToInteractive('df-f20e7694-fc9d-4856-b753-ffbe5577bdd6')\"\n",
              "            title=\"Convert this dataframe to an interactive table.\"\n",
              "            style=\"display:none;\">\n",
              "\n",
              "  <svg xmlns=\"http://www.w3.org/2000/svg\" height=\"24px\" viewBox=\"0 -960 960 960\">\n",
              "    <path d=\"M120-120v-720h720v720H120Zm60-500h600v-160H180v160Zm220 220h160v-160H400v160Zm0 220h160v-160H400v160ZM180-400h160v-160H180v160Zm440 0h160v-160H620v160ZM180-180h160v-160H180v160Zm440 0h160v-160H620v160Z\"/>\n",
              "  </svg>\n",
              "    </button>\n",
              "\n",
              "  <style>\n",
              "    .colab-df-container {\n",
              "      display:flex;\n",
              "      gap: 12px;\n",
              "    }\n",
              "\n",
              "    .colab-df-convert {\n",
              "      background-color: #E8F0FE;\n",
              "      border: none;\n",
              "      border-radius: 50%;\n",
              "      cursor: pointer;\n",
              "      display: none;\n",
              "      fill: #1967D2;\n",
              "      height: 32px;\n",
              "      padding: 0 0 0 0;\n",
              "      width: 32px;\n",
              "    }\n",
              "\n",
              "    .colab-df-convert:hover {\n",
              "      background-color: #E2EBFA;\n",
              "      box-shadow: 0px 1px 2px rgba(60, 64, 67, 0.3), 0px 1px 3px 1px rgba(60, 64, 67, 0.15);\n",
              "      fill: #174EA6;\n",
              "    }\n",
              "\n",
              "    .colab-df-buttons div {\n",
              "      margin-bottom: 4px;\n",
              "    }\n",
              "\n",
              "    [theme=dark] .colab-df-convert {\n",
              "      background-color: #3B4455;\n",
              "      fill: #D2E3FC;\n",
              "    }\n",
              "\n",
              "    [theme=dark] .colab-df-convert:hover {\n",
              "      background-color: #434B5C;\n",
              "      box-shadow: 0px 1px 3px 1px rgba(0, 0, 0, 0.15);\n",
              "      filter: drop-shadow(0px 1px 2px rgba(0, 0, 0, 0.3));\n",
              "      fill: #FFFFFF;\n",
              "    }\n",
              "  </style>\n",
              "\n",
              "    <script>\n",
              "      const buttonEl =\n",
              "        document.querySelector('#df-f20e7694-fc9d-4856-b753-ffbe5577bdd6 button.colab-df-convert');\n",
              "      buttonEl.style.display =\n",
              "        google.colab.kernel.accessAllowed ? 'block' : 'none';\n",
              "\n",
              "      async function convertToInteractive(key) {\n",
              "        const element = document.querySelector('#df-f20e7694-fc9d-4856-b753-ffbe5577bdd6');\n",
              "        const dataTable =\n",
              "          await google.colab.kernel.invokeFunction('convertToInteractive',\n",
              "                                                    [key], {});\n",
              "        if (!dataTable) return;\n",
              "\n",
              "        const docLinkHtml = 'Like what you see? Visit the ' +\n",
              "          '<a target=\"_blank\" href=https://colab.research.google.com/notebooks/data_table.ipynb>data table notebook</a>'\n",
              "          + ' to learn more about interactive tables.';\n",
              "        element.innerHTML = '';\n",
              "        dataTable['output_type'] = 'display_data';\n",
              "        await google.colab.output.renderOutput(dataTable, element);\n",
              "        const docLink = document.createElement('div');\n",
              "        docLink.innerHTML = docLinkHtml;\n",
              "        element.appendChild(docLink);\n",
              "      }\n",
              "    </script>\n",
              "  </div>\n",
              "\n",
              "\n",
              "    <div id=\"df-842b2855-3e67-4ae4-b60b-e4aa8e79d297\">\n",
              "      <button class=\"colab-df-quickchart\" onclick=\"quickchart('df-842b2855-3e67-4ae4-b60b-e4aa8e79d297')\"\n",
              "                title=\"Suggest charts\"\n",
              "                style=\"display:none;\">\n",
              "\n",
              "<svg xmlns=\"http://www.w3.org/2000/svg\" height=\"24px\"viewBox=\"0 0 24 24\"\n",
              "     width=\"24px\">\n",
              "    <g>\n",
              "        <path d=\"M19 3H5c-1.1 0-2 .9-2 2v14c0 1.1.9 2 2 2h14c1.1 0 2-.9 2-2V5c0-1.1-.9-2-2-2zM9 17H7v-7h2v7zm4 0h-2V7h2v10zm4 0h-2v-4h2v4z\"/>\n",
              "    </g>\n",
              "</svg>\n",
              "      </button>\n",
              "\n",
              "<style>\n",
              "  .colab-df-quickchart {\n",
              "      --bg-color: #E8F0FE;\n",
              "      --fill-color: #1967D2;\n",
              "      --hover-bg-color: #E2EBFA;\n",
              "      --hover-fill-color: #174EA6;\n",
              "      --disabled-fill-color: #AAA;\n",
              "      --disabled-bg-color: #DDD;\n",
              "  }\n",
              "\n",
              "  [theme=dark] .colab-df-quickchart {\n",
              "      --bg-color: #3B4455;\n",
              "      --fill-color: #D2E3FC;\n",
              "      --hover-bg-color: #434B5C;\n",
              "      --hover-fill-color: #FFFFFF;\n",
              "      --disabled-bg-color: #3B4455;\n",
              "      --disabled-fill-color: #666;\n",
              "  }\n",
              "\n",
              "  .colab-df-quickchart {\n",
              "    background-color: var(--bg-color);\n",
              "    border: none;\n",
              "    border-radius: 50%;\n",
              "    cursor: pointer;\n",
              "    display: none;\n",
              "    fill: var(--fill-color);\n",
              "    height: 32px;\n",
              "    padding: 0;\n",
              "    width: 32px;\n",
              "  }\n",
              "\n",
              "  .colab-df-quickchart:hover {\n",
              "    background-color: var(--hover-bg-color);\n",
              "    box-shadow: 0 1px 2px rgba(60, 64, 67, 0.3), 0 1px 3px 1px rgba(60, 64, 67, 0.15);\n",
              "    fill: var(--button-hover-fill-color);\n",
              "  }\n",
              "\n",
              "  .colab-df-quickchart-complete:disabled,\n",
              "  .colab-df-quickchart-complete:disabled:hover {\n",
              "    background-color: var(--disabled-bg-color);\n",
              "    fill: var(--disabled-fill-color);\n",
              "    box-shadow: none;\n",
              "  }\n",
              "\n",
              "  .colab-df-spinner {\n",
              "    border: 2px solid var(--fill-color);\n",
              "    border-color: transparent;\n",
              "    border-bottom-color: var(--fill-color);\n",
              "    animation:\n",
              "      spin 1s steps(1) infinite;\n",
              "  }\n",
              "\n",
              "  @keyframes spin {\n",
              "    0% {\n",
              "      border-color: transparent;\n",
              "      border-bottom-color: var(--fill-color);\n",
              "      border-left-color: var(--fill-color);\n",
              "    }\n",
              "    20% {\n",
              "      border-color: transparent;\n",
              "      border-left-color: var(--fill-color);\n",
              "      border-top-color: var(--fill-color);\n",
              "    }\n",
              "    30% {\n",
              "      border-color: transparent;\n",
              "      border-left-color: var(--fill-color);\n",
              "      border-top-color: var(--fill-color);\n",
              "      border-right-color: var(--fill-color);\n",
              "    }\n",
              "    40% {\n",
              "      border-color: transparent;\n",
              "      border-right-color: var(--fill-color);\n",
              "      border-top-color: var(--fill-color);\n",
              "    }\n",
              "    60% {\n",
              "      border-color: transparent;\n",
              "      border-right-color: var(--fill-color);\n",
              "    }\n",
              "    80% {\n",
              "      border-color: transparent;\n",
              "      border-right-color: var(--fill-color);\n",
              "      border-bottom-color: var(--fill-color);\n",
              "    }\n",
              "    90% {\n",
              "      border-color: transparent;\n",
              "      border-bottom-color: var(--fill-color);\n",
              "    }\n",
              "  }\n",
              "</style>\n",
              "\n",
              "      <script>\n",
              "        async function quickchart(key) {\n",
              "          const quickchartButtonEl =\n",
              "            document.querySelector('#' + key + ' button');\n",
              "          quickchartButtonEl.disabled = true;  // To prevent multiple clicks.\n",
              "          quickchartButtonEl.classList.add('colab-df-spinner');\n",
              "          try {\n",
              "            const charts = await google.colab.kernel.invokeFunction(\n",
              "                'suggestCharts', [key], {});\n",
              "          } catch (error) {\n",
              "            console.error('Error during call to suggestCharts:', error);\n",
              "          }\n",
              "          quickchartButtonEl.classList.remove('colab-df-spinner');\n",
              "          quickchartButtonEl.classList.add('colab-df-quickchart-complete');\n",
              "        }\n",
              "        (() => {\n",
              "          let quickchartButtonEl =\n",
              "            document.querySelector('#df-842b2855-3e67-4ae4-b60b-e4aa8e79d297 button');\n",
              "          quickchartButtonEl.style.display =\n",
              "            google.colab.kernel.accessAllowed ? 'block' : 'none';\n",
              "        })();\n",
              "      </script>\n",
              "    </div>\n",
              "\n",
              "    </div>\n",
              "  </div>\n"
            ],
            "application/vnd.google.colaboratory.intrinsic+json": {
              "type": "dataframe",
              "summary": "{\n  \"name\": \"df\",\n  \"rows\": 8,\n  \"fields\": [\n    {\n      \"column\": \"comment react number\",\n      \"properties\": {\n        \"dtype\": \"number\",\n        \"std\": 15534.294880681096,\n        \"min\": 0.0,\n        \"max\": 43998.0,\n        \"num_unique_values\": 6,\n        \"samples\": [\n          43998.0,\n          1.1808491295058867,\n          428.0\n        ],\n        \"semantic_type\": \"\",\n        \"description\": \"\"\n      }\n    }\n  ]\n}"
            }
          },
          "metadata": {},
          "execution_count": 6
        }
      ]
    },
    {
      "cell_type": "code",
      "source": [
        "df['Gender'].value_counts()"
      ],
      "metadata": {
        "colab": {
          "base_uri": "https://localhost:8080/",
          "height": 178
        },
        "id": "u-rVYDFKu7ra",
        "outputId": "de31ebc3-1e3f-4342-f86c-943cdfa89110"
      },
      "execution_count": null,
      "outputs": [
        {
          "output_type": "execute_result",
          "data": {
            "text/plain": [
              "Gender\n",
              "Female    29950\n",
              "Male      14051\n",
              "Name: count, dtype: int64"
            ],
            "text/html": [
              "<div>\n",
              "<style scoped>\n",
              "    .dataframe tbody tr th:only-of-type {\n",
              "        vertical-align: middle;\n",
              "    }\n",
              "\n",
              "    .dataframe tbody tr th {\n",
              "        vertical-align: top;\n",
              "    }\n",
              "\n",
              "    .dataframe thead th {\n",
              "        text-align: right;\n",
              "    }\n",
              "</style>\n",
              "<table border=\"1\" class=\"dataframe\">\n",
              "  <thead>\n",
              "    <tr style=\"text-align: right;\">\n",
              "      <th></th>\n",
              "      <th>count</th>\n",
              "    </tr>\n",
              "    <tr>\n",
              "      <th>Gender</th>\n",
              "      <th></th>\n",
              "    </tr>\n",
              "  </thead>\n",
              "  <tbody>\n",
              "    <tr>\n",
              "      <th>Female</th>\n",
              "      <td>29950</td>\n",
              "    </tr>\n",
              "    <tr>\n",
              "      <th>Male</th>\n",
              "      <td>14051</td>\n",
              "    </tr>\n",
              "  </tbody>\n",
              "</table>\n",
              "</div><br><label><b>dtype:</b> int64</label>"
            ]
          },
          "metadata": {},
          "execution_count": 7
        }
      ]
    },
    {
      "cell_type": "markdown",
      "source": [
        "## Exploratory Data Analysis"
      ],
      "metadata": {
        "id": "hUoOp0k2vCsh"
      }
    },
    {
      "cell_type": "code",
      "source": [
        "plt.figure(figsize=(10, 8))\n",
        "sns.countplot(data=df, x='label')\n",
        "plt.title('Labels Distribution')\n",
        "plt.show()"
      ],
      "metadata": {
        "colab": {
          "base_uri": "https://localhost:8080/",
          "height": 580
        },
        "id": "lvayRgLHvAoe",
        "outputId": "ba59917c-9fc3-4dad-ba4a-84ae57c2eb48"
      },
      "execution_count": null,
      "outputs": [
        {
          "output_type": "display_data",
          "data": {
            "text/plain": [
              "<Figure size 1000x800 with 1 Axes>"
            ],
            "image/png": "[encoded data removed]"
          },
          "metadata": {}
        }
      ]
    },
    {
      "cell_type": "code",
      "source": [
        "df['text_length'] = df['comment'].apply(len)\n",
        "plt.figure(figsize=(10, 8))\n",
        "sns.boxplot(data=df, x='label', y='text_length')\n",
        "plt.title('Text length vs Label')\n",
        "plt.show()"
      ],
      "metadata": {
        "colab": {
          "base_uri": "https://localhost:8080/",
          "height": 586
        },
        "id": "WeQnAne6viJv",
        "outputId": "b40379fe-5dab-4ed6-ce63-9e60fcfa114b"
      },
      "execution_count": null,
      "outputs": [
        {
          "output_type": "display_data",
          "data": {
            "text/plain": [
              "<Figure size 1000x800 with 1 Axes>"
            ],
            "image/png": "[encoded data removed]"
          },
          "metadata": {}
        }
      ]
    },
    {
      "cell_type": "code",
      "source": [
        "from collections import Counter\n",
        "\n",
        "for label in df['label'].unique():\n",
        "  filtered_comment = df[df['label']==label]['comment']\n",
        "  words = ' '.join(filtered_comment).split()\n",
        "  print(\"Ten most common words\", Counter(words).most_common(10))"
      ],
      "metadata": {
        "colab": {
          "base_uri": "https://localhost:8080/"
        },
        "id": "e-fa4mWPy5v7",
        "outputId": "6a0283f2-6ab0-4977-c96b-f83232191370"
      },
      "execution_count": null,
      "outputs": [
        {
          "output_type": "stream",
          "name": "stdout",
          "text": [
            "Ten most common words [('না', 2254), ('করে', 1684), ('কি', 1492), ('বিশ্বাস', 1318), ('মাগি', 1268), ('তুই', 1187), ('আর', 1185), ('এই', 1117), ('তো', 1050), ('তোর', 1034)]\n",
            "Ten most common words [('না', 1745), ('করে', 1612), ('আল্লাহ', 1575), ('ভাই', 1438), ('আপনার', 1377), ('হিরো', 1335), ('আলম', 1293), ('এই', 1196), ('অনেক', 1174), ('কি', 1157)]\n",
            "Ten most common words [('না', 2052), ('কি', 1645), ('করে', 1391), ('এই', 1216), ('আর', 1175), ('তো', 962), ('হিরো', 927), ('বিশ্বাস', 862), ('একটা', 820), ('তুই', 815)]\n",
            "Ten most common words [('নাস্তিক', 4134), ('না', 2792), ('করে', 2309), ('বিশ্বাস', 2236), ('কি', 1789), ('আর', 1623), ('তুই', 1489), ('এই', 1472), ('আল্লাহ', 1419), ('তো', 1383)]\n",
            "Ten most common words [('জুতা', 738), ('না', 318), ('করে', 304), ('এই', 291), ('থেকে', 231), ('করা', 228), ('তোর', 208), ('কে', 198), ('তুই', 195), ('আর', 187)]\n"
          ]
        }
      ]
    },
    {
      "cell_type": "code",
      "source": [
        "with open('/content/drive/MyDrive/stopwords-bn.txt', encoding='utf-8') as f:\n",
        "  stopwords = f.read()\n",
        "\n",
        "print(stopwords.split('\\n'))"
      ],
      "metadata": {
        "colab": {
          "base_uri": "https://localhost:8080/"
        },
        "id": "ZWjGC8dM5Uqo",
        "outputId": "e264a1a7-4003-4852-d9e5-734087223f1a"
      },
      "execution_count": null,
      "outputs": [
        {
          "output_type": "stream",
          "name": "stdout",
          "text": [
            "['অতএব', 'অথচ', 'অথবা', 'অনুযায়ী', 'অনেক', 'অনেকে', 'অনেকেই', 'অন্তত', 'অন্য', 'অবধি', 'অবশ্য', 'অর্থাত', 'আই', 'আগামী', 'আগে', 'আগেই', 'আছে', 'আজ', 'আদ্যভাগে', 'আপনার', 'আপনি', 'আবার', 'আমরা', 'আমাকে', 'আমাদের', 'আমার', 'আমি', 'আর', 'আরও', 'ই', 'ইত্যাদি', 'ইহা', 'উচিত', 'উত্তর', 'উনি', 'উপর', 'উপরে', 'এ', 'এঁদের', 'এঁরা', 'এই', 'একই', 'একটি', 'একবার', 'একে', 'এক্', 'এখন', 'এখনও', 'এখানে', 'এখানেই', 'এটা', 'এটাই', 'এটি', 'এত', 'এতটাই', 'এতে', 'এদের', 'এব', 'এবং', 'এবার', 'এমন', 'এমনকী', 'এমনি', 'এর', 'এরা', 'এল', 'এস', 'এসে', 'ঐ', 'ও', 'ওঁদের', 'ওঁর', 'ওঁরা', 'ওই', 'ওকে', 'ওখানে', 'ওদের', 'ওর', 'ওরা', 'কখনও', 'কত', 'কবে', 'কমনে', 'কয়েক', 'কয়েকটি', 'করছে', 'করছেন', 'করতে', 'করবে', 'করবেন', 'করলে', 'করলেন', 'করা', 'করাই', 'করায়', 'করার', 'করি', 'করিতে', 'করিয়া', 'করিয়ে', 'করে', 'করেই', 'করেছিলেন', 'করেছে', 'করেছেন', 'করেন', 'কাউকে', 'কাছ', 'কাছে', 'কাজ', 'কাজে', 'কারও', 'কারণ', 'কি', 'কিংবা', 'কিছু', 'কিছুই', 'কিন্তু', 'কী', 'কে', 'কেউ', 'কেউই', 'কেখা', 'কেন', 'কোটি', 'কোন', 'কোনও', 'কোনো', 'ক্ষেত্রে', 'কয়েক', 'খুব', 'গিয়ে', 'গিয়েছে', 'গিয়ে', 'গুলি', 'গেছে', 'গেল', 'গেলে', 'গোটা', 'চলে', 'চান', 'চায়', 'চার', 'চালু', 'চেয়ে', 'চেষ্টা', 'ছাড়া', 'ছাড়াও', 'ছিল', 'ছিলেন', 'জন', 'জনকে', 'জনের', 'জন্য', 'জন্যওজে', 'জানতে', 'জানা', 'জানানো', 'জানায়', 'জানিয়ে', 'জানিয়েছে', 'জে', 'জ্নজন', 'টি', 'ঠিক', 'তখন', 'তত', 'তথা', 'তবু', 'তবে', 'তা', 'তাঁকে', 'তাঁদের', 'তাঁর', 'তাঁরা', 'তাঁাহারা', 'তাই', 'তাও', 'তাকে', 'তাতে', 'তাদের', 'তার', 'তারপর', 'তারা', 'তারৈ', 'তাহলে', 'তাহা', 'তাহাতে', 'তাহার', 'তিনঐ', 'তিনি', 'তিনিও', 'তুমি', 'তুলে', 'তেমন', 'তো', 'তোমার', 'থাকবে', 'থাকবেন', 'থাকা', 'থাকায়', 'থাকে', 'থাকেন', 'থেকে', 'থেকেই', 'থেকেও', 'দিকে', 'দিতে', 'দিন', 'দিয়ে', 'দিয়েছে', 'দিয়েছেন', 'দিলেন', 'দু', 'দুই', 'দুটি', 'দুটো', 'দেওয়া', 'দেওয়ার', 'দেওয়া', 'দেখতে', 'দেখা', 'দেখে', 'দেন', 'দেয়', 'দ্বারা', 'ধরা', 'ধরে', 'ধামার', 'নতুন', 'নয়', 'না', 'নাই', 'নাকি', 'নাগাদ', 'নানা', 'নিজে', 'নিজেই', 'নিজেদের', 'নিজের', 'নিতে', 'নিয়ে', 'নিয়ে', 'নেই', 'নেওয়া', 'নেওয়ার', 'নেওয়া', 'নয়', 'পক্ষে', 'পর', 'পরে', 'পরেই', 'পরেও', 'পর্যন্ত', 'পাওয়া', 'পাচ', 'পারি', 'পারে', 'পারেন', 'পি', 'পেয়ে', 'পেয়্র্', 'প্রতি', 'প্রথম', 'প্রভৃতি', 'প্রযন্ত', 'প্রাথমিক', 'প্রায়', 'প্রায়', 'ফলে', 'ফিরে', 'ফের', 'বক্তব্য', 'বদলে', 'বন', 'বরং', 'বলতে', 'বলল', 'বললেন', 'বলা', 'বলে', 'বলেছেন', 'বলেন', 'বসে', 'বহু', 'বা', 'বাদে', 'বার', 'বি', 'বিনা', 'বিভিন্ন', 'বিশেষ', 'বিষয়টি', 'বেশ', 'বেশি', 'ব্যবহার', 'ব্যাপারে', 'ভাবে', 'ভাবেই', 'মতো', 'মতোই', 'মধ্যভাগে', 'মধ্যে', 'মধ্যেই', 'মধ্যেও', 'মনে', 'মাত্র', 'মাধ্যমে', 'মোট', 'মোটেই', 'যখন', 'যত', 'যতটা', 'যথেষ্ট', 'যদি', 'যদিও', 'যা', 'যাঁর', 'যাঁরা', 'যাওয়া', 'যাওয়ার', 'যাওয়া', 'যাকে', 'যাচ্ছে', 'যাতে', 'যাদের', 'যান', 'যাবে', 'যায়', 'যার', 'যারা', 'যিনি', 'যে', 'যেখানে', 'যেতে', 'যেন', 'যেমন', 'র', 'রকম', 'রয়েছে', 'রাখা', 'রেখে', 'লক্ষ', 'শুধু', 'শুরু', 'সঙ্গে', 'সঙ্গেও', 'সব', 'সবার', 'সমস্ত', 'সম্প্রতি', 'সহ', 'সহিত', 'সাধারণ', 'সামনে', 'সি', 'সুতরাং', 'সে', 'সেই', 'সেখান', 'সেখানে', 'সেটা', 'সেটাই', 'সেটাও', 'সেটি', 'স্পষ্ট', 'স্বয়ং', 'হইতে', 'হইবে', 'হইয়া', 'হওয়া', 'হওয়ায়', 'হওয়ার', 'হচ্ছে', 'হত', 'হতে', 'হতেই', 'হন', 'হবে', 'হবেন', 'হয়', 'হয়তো', 'হয়নি', 'হয়ে', 'হয়েই', 'হয়েছিল', 'হয়েছে', 'হয়েছেন', 'হল', 'হলে', 'হলেই', 'হলেও', 'হলো', 'হাজার', 'হিসাবে', 'হৈলে', 'হোক', 'হয়']\n"
          ]
        }
      ]
    },
    {
      "cell_type": "code",
      "source": [
        "from collections import Counter\n",
        "\n",
        "for label in df['label'].unique():\n",
        "  words = ' '.join(df[df['label'] == label]['comment']).split()\n",
        "  words = [w for w in words if w not in stopwords]\n",
        "  print(\"Ten most common words\", Counter(words).most_common(10))\n"
      ],
      "metadata": {
        "colab": {
          "base_uri": "https://localhost:8080/"
        },
        "id": "3hYHbNWy1XHd",
        "outputId": "27c4a9b0-5078-4e94-be16-6d2b5ad416d8"
      },
      "execution_count": null,
      "outputs": [
        {
          "output_type": "stream",
          "name": "stdout",
          "text": [
            "Ten most common words [('বিশ্বাস', 1318), ('মাগি', 1268), ('তুই', 1187), ('তোর', 1034), ('একটা', 759), ('কথা', 739), ('সাফা', 687), ('ক্ষমা', 603), ('আল্লাহ', 574), ('খানকি', 572)]\n",
            "Ten most common words [('আল্লাহ', 1575), ('ভাই', 1438), ('হিরো', 1335), ('আলম', 1293), ('সুন্দর', 1060), ('ভালো', 951), ('কথা', 927), ('দান', 875), ('আপনাকে', 873), ('ধন্যবাদ', 748)]\n",
            "Ten most common words [('হিরো', 927), ('বিশ্বাস', 862), ('একটা', 820), ('তুই', 815), ('কথা', 746), ('আলম', 676), ('পাগল', 637), ('তোর', 566), ('মানুষ', 492), ('জায়েদ', 450)]\n",
            "Ten most common words [('নাস্তিক', 4134), ('বিশ্বাস', 2236), ('তুই', 1489), ('আল্লাহ', 1419), ('কথা', 1156), ('সাফা', 1072), ('নাস্তিকের', 1029), ('তোর', 907), ('ক্ষমা', 824), ('একটা', 799)]\n",
            "Ten most common words [('জুতা', 738), ('তোর', 208), ('তুই', 195), ('নাস্তিক', 185), ('বিশ্বাস', 158), ('দিয়ে', 148), ('জুতার', 146), ('কথা', 136), ('সাফা', 116), ('একটা', 109)]\n"
          ]
        }
      ]
    },
    {
      "cell_type": "code",
      "source": [
        "from sklearn.model_selection import train_test_split\n",
        "train_df, test_df = train_test_split(df, test_size=0.2, stratify=df['label'], random_state=42)\n",
        "print(f\"{train_df['label'].value_counts()}'\\n'{test_df['label'].value_counts()}\")"
      ],
      "metadata": {
        "colab": {
          "base_uri": "https://localhost:8080/"
        },
        "id": "jJt3TJEtIcFL",
        "outputId": "f3d74011-6c88-4b94-fc24-f82448a76837"
      },
      "execution_count": null,
      "outputs": [
        {
          "output_type": "stream",
          "name": "stdout",
          "text": [
            "label\n",
            "not bully    12272\n",
            "troll         8369\n",
            "sexual        7142\n",
            "religious     6062\n",
            "threat        1355\n",
            "Name: count, dtype: int64'\n",
            "'label\n",
            "not bully    3068\n",
            "troll        2093\n",
            "sexual       1786\n",
            "religious    1515\n",
            "threat        339\n",
            "Name: count, dtype: int64\n"
          ]
        }
      ]
    },
    {
      "cell_type": "code",
      "source": [
        "!pip install swifter emoji"
      ],
      "metadata": {
        "colab": {
          "base_uri": "https://localhost:8080/"
        },
        "id": "BBAx9jcJOm_w",
        "outputId": "747e31dd-c842-4d54-dffa-b5402ead0733"
      },
      "execution_count": null,
      "outputs": [
        {
          "output_type": "stream",
          "name": "stdout",
          "text": [
            "Collecting swifter\n",
            "  Downloading swifter-1.4.0.tar.gz (1.2 MB)\n",
            "\u001b[?25l     \u001b[90m━━━━━━━━━━━━━━━━━━━━━━━━━━━━━━━━━━━━━━━━\u001b[0m \u001b[32m0.0/1.2 MB\u001b[0m \u001b[31m?\u001b[0m eta \u001b[36m-:--:--\u001b[0m\r\u001b[2K     \u001b[91m━━━━━━━━━━━━━━━━━━━━\u001b[0m\u001b[91m╸\u001b[0m\u001b[90m━━━━━━━━━━━━━━━━━━━\u001b[0m \u001b[32m0.6/1.2 MB\u001b[0m \u001b[31m19.7 MB/s\u001b[0m eta \u001b[36m0:00:01\u001b[0m\r\u001b[2K     \u001b[90m━━━━━━━━━━━━━━━━━━━━━━━━━━━━━━━━━━━━━━━━\u001b[0m \u001b[32m1.2/1.2 MB\u001b[0m \u001b[31m24.1 MB/s\u001b[0m eta \u001b[36m0:00:00\u001b[0m\n",
            "\u001b[?25h  Preparing metadata (setup.py) ... \u001b[?25l\u001b[?25hdone\n",
            "Collecting emoji\n",
            "  Downloading emoji-2.14.1-py3-none-any.whl.metadata (5.7 kB)\n",
            "Requirement already satisfied: pandas>=1.0.0 in /usr/local/lib/python3.11/dist-packages (from swifter) (2.2.2)\n",
            "Requirement already satisfied: psutil>=5.6.6 in /usr/local/lib/python3.11/dist-packages (from swifter) (5.9.5)\n",
            "Requirement already satisfied: dask>=2.10.0 in /usr/local/lib/python3.11/dist-packages (from dask[dataframe]>=2.10.0->swifter) (2024.12.1)\n",
            "Requirement already satisfied: tqdm>=4.33.0 in /usr/local/lib/python3.11/dist-packages (from swifter) (4.67.1)\n",
            "Requirement already satisfied: click>=8.1 in /usr/local/lib/python3.11/dist-packages (from dask>=2.10.0->dask[dataframe]>=2.10.0->swifter) (8.2.0)\n",
            "Requirement already satisfied: cloudpickle>=3.0.0 in /usr/local/lib/python3.11/dist-packages (from dask>=2.10.0->dask[dataframe]>=2.10.0->swifter) (3.1.1)\n",
            "Requirement already satisfied: fsspec>=2021.09.0 in /usr/local/lib/python3.11/dist-packages (from dask>=2.10.0->dask[dataframe]>=2.10.0->swifter) (2025.3.2)\n",
            "Requirement already satisfied: packaging>=20.0 in /usr/local/lib/python3.11/dist-packages (from dask>=2.10.0->dask[dataframe]>=2.10.0->swifter) (24.2)\n",
            "Requirement already satisfied: partd>=1.4.0 in /usr/local/lib/python3.11/dist-packages (from dask>=2.10.0->dask[dataframe]>=2.10.0->swifter) (1.4.2)\n",
            "Requirement already satisfied: pyyaml>=5.3.1 in /usr/local/lib/python3.11/dist-packages (from dask>=2.10.0->dask[dataframe]>=2.10.0->swifter) (6.0.2)\n",
            "Requirement already satisfied: toolz>=0.10.0 in /usr/local/lib/python3.11/dist-packages (from dask>=2.10.0->dask[dataframe]>=2.10.0->swifter) (0.12.1)\n",
            "Requirement already satisfied: importlib_metadata>=4.13.0 in /usr/local/lib/python3.11/dist-packages (from dask>=2.10.0->dask[dataframe]>=2.10.0->swifter) (8.7.0)\n",
            "Requirement already satisfied: dask-expr<1.2,>=1.1 in /usr/local/lib/python3.11/dist-packages (from dask[dataframe]>=2.10.0->swifter) (1.1.21)\n",
            "Requirement already satisfied: numpy>=1.23.2 in /usr/local/lib/python3.11/dist-packages (from pandas>=1.0.0->swifter) (2.0.2)\n",
            "Requirement already satisfied: python-dateutil>=2.8.2 in /usr/local/lib/python3.11/dist-packages (from pandas>=1.0.0->swifter) (2.9.0.post0)\n",
            "Requirement already satisfied: pytz>=2020.1 in /usr/local/lib/python3.11/dist-packages (from pandas>=1.0.0->swifter) (2025.2)\n",
            "Requirement already satisfied: tzdata>=2022.7 in /usr/local/lib/python3.11/dist-packages (from pandas>=1.0.0->swifter) (2025.2)\n",
            "Requirement already satisfied: pyarrow>=14.0.1 in /usr/local/lib/python3.11/dist-packages (from dask-expr<1.2,>=1.1->dask[dataframe]>=2.10.0->swifter) (18.1.0)\n",
            "Requirement already satisfied: zipp>=3.20 in /usr/local/lib/python3.11/dist-packages (from importlib_metadata>=4.13.0->dask>=2.10.0->dask[dataframe]>=2.10.0->swifter) (3.21.0)\n",
            "Requirement already satisfied: locket in /usr/local/lib/python3.11/dist-packages (from partd>=1.4.0->dask>=2.10.0->dask[dataframe]>=2.10.0->swifter) (1.0.0)\n",
            "Requirement already satisfied: six>=1.5 in /usr/local/lib/python3.11/dist-packages (from python-dateutil>=2.8.2->pandas>=1.0.0->swifter) (1.17.0)\n",
            "Downloading emoji-2.14.1-py3-none-any.whl (590 kB)\n",
            "\u001b[2K   \u001b[90m━━━━━━━━━━━━━━━━━━━━━━━━━━━━━━━━━━━━━━━━\u001b[0m \u001b[32m590.6/590.6 kB\u001b[0m \u001b[31m48.4 MB/s\u001b[0m eta \u001b[36m0:00:00\u001b[0m\n",
            "\u001b[?25hBuilding wheels for collected packages: swifter\n",
            "  Building wheel for swifter (setup.py) ... \u001b[?25l\u001b[?25hdone\n",
            "  Created wheel for swifter: filename=swifter-1.4.0-py3-none-any.whl size=16505 sha256=78d1b1f4e2ac50585a7843791883f3e1898bec32314de61580d09b9244ca807e\n",
            "  Stored in directory: /root/.cache/pip/wheels/ef/7f/bd/9bed48f078f3ee1fa75e0b29b6e0335ce1cb03a38d3443b3a3\n",
            "Successfully built swifter\n",
            "Installing collected packages: emoji, swifter\n",
            "Successfully installed emoji-2.14.1 swifter-1.4.0\n"
          ]
        }
      ]
    },
    {
      "cell_type": "code",
      "source": [
        "import re\n",
        "import unicodedata\n",
        "import emoji\n",
        "import pandas as pd\n",
        "import swifter\n",
        "\n",
        "eng_remove = re.compile(r'[A-Za-z0-9]')\n",
        "url_mention_hastag_remove = re.compile(r'http\\S+|www\\S+|@\\w+|#\\w+')\n",
        "newline_remove = re.compile(r'[\\n\\r\\t]')\n",
        "space_remove = re.compile(r'\\s+')\n",
        "non_bangla_remove = re.compile(r'[^\\u0980-\\u09FF ]')\n",
        "\n",
        "def preprocess_base_model(text):\n",
        "\n",
        "    if pd.isnull(text):\n",
        "        return \"\"\n",
        "\n",
        "    text = emoji.replace_emoji(text, replace='')\n",
        "    text = eng_remove.sub('', text)\n",
        "    text = url_mention_hastag_remove.sub('', text)\n",
        "    text = newline_remove.sub('', text)\n",
        "    text = non_bangla_remove.sub('', text)\n",
        "    text = space_remove.sub(' ', text).strip()\n",
        "    text = unicodedata.normalize('NFKC', text)\n",
        "\n",
        "    words = [w for w in text.split() if w not in stopwords]\n",
        "\n",
        "    return ' '.join(words)\n",
        "\n",
        "\n",
        "train_df['comment'] = train_df['comment'].swifter.apply(preprocess_base_model)\n",
        "test_df['comment'] = test_df['comment'].swifter.apply(preprocess_base_model)"
      ],
      "metadata": {
        "colab": {
          "base_uri": "https://localhost:8080/",
          "height": 81,
          "referenced_widgets": [
            "c88ec359b3fe48a192e448220598b96f",
            "b3737503d56444f4af9a949689dbd1e9",
            "7af7ad7337744e068cb5dde5f45e075e",
            "8facb3c9c9384de3ba5799d19b6b4185",
            "0846795f7d0b4aaaa9c49d4a3cb2153f",
            "0396b2d3e6ea45258e2ac34996b0252a",
            "b64fbd71d3f84b539395f424c2a9b7f5",
            "40d191999b764eff8ef8011f8e03b49d",
            "0deb83505b1f4d7f9ee9cd54cf9d8cf2",
            "797953a481d4400fb5d4712983cdee05",
            "1743c746ebe144b3803a04b6da46571e",
            "067c4188883d478190af2648f738cdbc",
            "d0845de841554a04a0bb847d97f51bee",
            "6442dc3a4df64f62a05e923bddb4cc61",
            "e273556a05c1400199bf81b6a601f83b",
            "93a6f5b8dddf4c4c9c16570347fdd699",
            "f910de70c2ac49ffa2c09bdbf31aafe1",
            "b9fe6eddd9fd41a69fa4b83a0993de94",
            "7d4f1aaa180d48ec8e27a321f4ae99cc",
            "e7b5a9d65b884df0ad228204349a9ba6",
            "730111b979d641b0a15fb87b14f20622",
            "9c47f94751814ed089857dc091b94b9c"
          ]
        },
        "id": "1FfcuCOOJaiK",
        "outputId": "9b00823b-07a9-4ea9-e998-e9be4a404cdc"
      },
      "execution_count": null,
      "outputs": [
        {
          "output_type": "display_data",
          "data": {
            "text/plain": [
              "Pandas Apply:   0%|          | 0/35200 [00:00<?, ?it/s]"
            ],
            "application/vnd.jupyter.widget-view+json": {
              "version_major": 2,
              "version_minor": 0,
              "model_id": "c88ec359b3fe48a192e448220598b96f"
            }
          },
          "metadata": {}
        },
        {
          "output_type": "display_data",
          "data": {
            "text/plain": [
              "Pandas Apply:   0%|          | 0/8801 [00:00<?, ?it/s]"
            ],
            "application/vnd.jupyter.widget-view+json": {
              "version_major": 2,
              "version_minor": 0,
              "model_id": "067c4188883d478190af2648f738cdbc"
            }
          },
          "metadata": {}
        }
      ]
    },
    {
      "cell_type": "code",
      "source": [
        "train_df['label'].value_counts()"
      ],
      "metadata": {
        "colab": {
          "base_uri": "https://localhost:8080/",
          "height": 272
        },
        "id": "8VrefGBYQPn7",
        "outputId": "be9950b5-2e97-48e0-b3aa-ec04d62626ad"
      },
      "execution_count": null,
      "outputs": [
        {
          "output_type": "execute_result",
          "data": {
            "text/plain": [
              "label\n",
              "not bully    12272\n",
              "troll         8369\n",
              "sexual        7142\n",
              "religious     6062\n",
              "threat        1355\n",
              "Name: count, dtype: int64"
            ],
            "text/html": [
              "<div>\n",
              "<style scoped>\n",
              "    .dataframe tbody tr th:only-of-type {\n",
              "        vertical-align: middle;\n",
              "    }\n",
              "\n",
              "    .dataframe tbody tr th {\n",
              "        vertical-align: top;\n",
              "    }\n",
              "\n",
              "    .dataframe thead th {\n",
              "        text-align: right;\n",
              "    }\n",
              "</style>\n",
              "<table border=\"1\" class=\"dataframe\">\n",
              "  <thead>\n",
              "    <tr style=\"text-align: right;\">\n",
              "      <th></th>\n",
              "      <th>count</th>\n",
              "    </tr>\n",
              "    <tr>\n",
              "      <th>label</th>\n",
              "      <th></th>\n",
              "    </tr>\n",
              "  </thead>\n",
              "  <tbody>\n",
              "    <tr>\n",
              "      <th>not bully</th>\n",
              "      <td>12272</td>\n",
              "    </tr>\n",
              "    <tr>\n",
              "      <th>troll</th>\n",
              "      <td>8369</td>\n",
              "    </tr>\n",
              "    <tr>\n",
              "      <th>sexual</th>\n",
              "      <td>7142</td>\n",
              "    </tr>\n",
              "    <tr>\n",
              "      <th>religious</th>\n",
              "      <td>6062</td>\n",
              "    </tr>\n",
              "    <tr>\n",
              "      <th>threat</th>\n",
              "      <td>1355</td>\n",
              "    </tr>\n",
              "  </tbody>\n",
              "</table>\n",
              "</div><br><label><b>dtype:</b> int64</label>"
            ]
          },
          "metadata": {},
          "execution_count": 16
        }
      ]
    },
    {
      "cell_type": "code",
      "source": [
        "from imblearn.over_sampling import RandomOverSampler\n",
        "from sklearn.feature_extraction.text import TfidfVectorizer\n",
        "\n",
        "def prepare_data(train_df, test_df):\n",
        "\n",
        "  sampling_strategy = {\n",
        "      'threat': 6000,\n",
        "      'religious': 7000\n",
        "  }\n",
        "\n",
        "  x_train = train_df['comment']\n",
        "  y_train = train_df['label']\n",
        "\n",
        "  ros = RandomOverSampler(sampling_strategy=sampling_strategy, random_state=42)\n",
        "  x_train_ros, y_train_ros = ros.fit_resample(x_train.values.reshape(-1, 1), y_train)\n",
        "  x_train_texts = x_train_ros.ravel()\n",
        "\n",
        "  vectorizer = TfidfVectorizer(max_features=10000, ngram_range=(1, 2))\n",
        "  x_train_vec = vectorizer.fit_transform(x_train_texts)\n",
        "  x_test_vec = vectorizer.transform(test_df['comment'])\n",
        "\n",
        "  return x_train_vec, y_train_ros, x_test_vec, test_df['label'], vectorizer\n"
      ],
      "metadata": {
        "id": "vTXZVOWCO7Q2"
      },
      "execution_count": null,
      "outputs": []
    },
    {
      "cell_type": "code",
      "source": [
        "x_train, y_train, x_test, y_test, vectorizer = prepare_data(train_df, test_df)"
      ],
      "metadata": {
        "id": "ERzCNm2UT7_u"
      },
      "execution_count": null,
      "outputs": []
    },
    {
      "cell_type": "code",
      "source": [
        "!pip install optuna"
      ],
      "metadata": {
        "colab": {
          "base_uri": "https://localhost:8080/"
        },
        "id": "eQ-P8tquYpRz",
        "outputId": "fd4428ad-06eb-4949-a2cc-dec3b72413d5"
      },
      "execution_count": null,
      "outputs": [
        {
          "output_type": "stream",
          "name": "stdout",
          "text": [
            "Collecting optuna\n",
            "  Downloading optuna-4.3.0-py3-none-any.whl.metadata (17 kB)\n",
            "Collecting alembic>=1.5.0 (from optuna)\n",
            "  Downloading alembic-1.15.2-py3-none-any.whl.metadata (7.3 kB)\n",
            "Collecting colorlog (from optuna)\n",
            "  Downloading colorlog-6.9.0-py3-none-any.whl.metadata (10 kB)\n",
            "Requirement already satisfied: numpy in /usr/local/lib/python3.11/dist-packages (from optuna) (2.0.2)\n",
            "Requirement already satisfied: packaging>=20.0 in /usr/local/lib/python3.11/dist-packages (from optuna) (24.2)\n",
            "Requirement already satisfied: sqlalchemy>=1.4.2 in /usr/local/lib/python3.11/dist-packages (from optuna) (2.0.40)\n",
            "Requirement already satisfied: tqdm in /usr/local/lib/python3.11/dist-packages (from optuna) (4.67.1)\n",
            "Requirement already satisfied: PyYAML in /usr/local/lib/python3.11/dist-packages (from optuna) (6.0.2)\n",
            "Requirement already satisfied: Mako in /usr/lib/python3/dist-packages (from alembic>=1.5.0->optuna) (1.1.3)\n",
            "Requirement already satisfied: typing-extensions>=4.12 in /usr/local/lib/python3.11/dist-packages (from alembic>=1.5.0->optuna) (4.13.2)\n",
            "Requirement already satisfied: greenlet>=1 in /usr/local/lib/python3.11/dist-packages (from sqlalchemy>=1.4.2->optuna) (3.2.2)\n",
            "Downloading optuna-4.3.0-py3-none-any.whl (386 kB)\n",
            "\u001b[2K   \u001b[90m━━━━━━━━━━━━━━━━━━━━━━━━━━━━━━━━━━━━━━━━\u001b[0m \u001b[32m386.6/386.6 kB\u001b[0m \u001b[31m12.4 MB/s\u001b[0m eta \u001b[36m0:00:00\u001b[0m\n",
            "\u001b[?25hDownloading alembic-1.15.2-py3-none-any.whl (231 kB)\n",
            "\u001b[2K   \u001b[90m━━━━━━━━━━━━━━━━━━━━━━━━━━━━━━━━━━━━━━━━\u001b[0m \u001b[32m231.9/231.9 kB\u001b[0m \u001b[31m11.9 MB/s\u001b[0m eta \u001b[36m0:00:00\u001b[0m\n",
            "\u001b[?25hDownloading colorlog-6.9.0-py3-none-any.whl (11 kB)\n",
            "Installing collected packages: colorlog, alembic, optuna\n",
            "Successfully installed alembic-1.15.2 colorlog-6.9.0 optuna-4.3.0\n"
          ]
        }
      ]
    },
    {
      "cell_type": "code",
      "source": [
        "import optuna\n",
        "from sklearn.ensemble import RandomForestClassifier\n",
        "from sklearn.metrics import f1_score\n",
        "\n",
        "\n",
        "def objective(trial, x_train, y_train, x_test, y_test):\n",
        "  params = {\n",
        "      'n_estimators': trial.suggest_int('n_estimators', 100, 500),\n",
        "      'max_depth': trial.suggest_int('max_depth', 10, 50),\n",
        "      'class_weight': trial.suggest_categorical('class_weight', ['balanced', 'balanced_subsample']),\n",
        "      'max_features': trial.suggest_categorical('max_features', ['sqrt', 'log2']),\n",
        "      'min_samples_split': trial.suggest_int('min_samples_split', 2, 10)\n",
        "  }\n",
        "\n",
        "  model = RandomForestClassifier(**params, random_state=42, n_jobs=-1)\n",
        "  model.fit(x_train, y_train)\n",
        "\n",
        "  predictions = model.predict(x_test)\n",
        "  f1 = f1_score(y_test, predictions, average='weighted')\n",
        "\n",
        "  return f1\n"
      ],
      "metadata": {
        "id": "BdtzM1-iUEqS"
      },
      "execution_count": null,
      "outputs": []
    },
    {
      "cell_type": "code",
      "source": [
        "def tune_hyperparameter(x_train, y_train, x_test, y_test, trial=20):\n",
        "  study = optuna.create_study(direction='maximize')\n",
        "  study.optimize(\n",
        "      lambda t: objective(t, x_train, y_train, x_test, y_test),\n",
        "      n_trials=trial\n",
        "  )\n",
        "\n",
        "  return study.best_params"
      ],
      "metadata": {
        "id": "IbX06uH5ac20"
      },
      "execution_count": null,
      "outputs": []
    },
    {
      "cell_type": "code",
      "source": [
        "best_params = tune_hyperparameter(x_train, y_train, x_test, y_test)\n",
        "print(best_params)"
      ],
      "metadata": {
        "colab": {
          "base_uri": "https://localhost:8080/"
        },
        "id": "9liTOpxxbf9W",
        "outputId": "cf7f9b55-33d5-472b-8fac-5c95a851793d"
      },
      "execution_count": null,
      "outputs": [
        {
          "output_type": "stream",
          "name": "stderr",
          "text": [
            "[I 2025-05-20 06:51:38,595] A new study created in memory with name: no-name-4163b9b6-d6ee-4805-a37d-633dc0cb9479\n",
            "[I 2025-05-20 06:51:46,798] Trial 0 finished with value: 0.5144690756479562 and parameters: {'n_estimators': 267, 'max_depth': 50, 'class_weight': 'balanced_subsample', 'max_features': 'log2', 'min_samples_split': 8}. Best is trial 0 with value: 0.5144690756479562.\n",
            "[I 2025-05-20 06:51:55,179] Trial 1 finished with value: 0.5048097327356936 and parameters: {'n_estimators': 457, 'max_depth': 36, 'class_weight': 'balanced', 'max_features': 'log2', 'min_samples_split': 7}. Best is trial 0 with value: 0.5144690756479562.\n",
            "[I 2025-05-20 06:52:02,219] Trial 2 finished with value: 0.5031693531893549 and parameters: {'n_estimators': 132, 'max_depth': 42, 'class_weight': 'balanced', 'max_features': 'log2', 'min_samples_split': 2}. Best is trial 0 with value: 0.5144690756479562.\n",
            "[I 2025-05-20 06:52:07,591] Trial 3 finished with value: 0.5081427890063962 and parameters: {'n_estimators': 336, 'max_depth': 37, 'class_weight': 'balanced', 'max_features': 'log2', 'min_samples_split': 10}. Best is trial 0 with value: 0.5144690756479562.\n",
            "[I 2025-05-20 06:52:12,558] Trial 4 finished with value: 0.49609335336979077 and parameters: {'n_estimators': 274, 'max_depth': 26, 'class_weight': 'balanced_subsample', 'max_features': 'log2', 'min_samples_split': 9}. Best is trial 0 with value: 0.5144690756479562.\n",
            "[I 2025-05-20 06:52:16,384] Trial 5 finished with value: 0.5005498315476722 and parameters: {'n_estimators': 130, 'max_depth': 38, 'class_weight': 'balanced', 'max_features': 'log2', 'min_samples_split': 4}. Best is trial 0 with value: 0.5144690756479562.\n",
            "[I 2025-05-20 06:52:18,619] Trial 6 finished with value: 0.4747440494984506 and parameters: {'n_estimators': 227, 'max_depth': 12, 'class_weight': 'balanced', 'max_features': 'log2', 'min_samples_split': 3}. Best is trial 0 with value: 0.5144690756479562.\n",
            "[I 2025-05-20 06:52:21,173] Trial 7 finished with value: 0.45318333033228236 and parameters: {'n_estimators': 121, 'max_depth': 10, 'class_weight': 'balanced_subsample', 'max_features': 'log2', 'min_samples_split': 7}. Best is trial 0 with value: 0.5144690756479562.\n",
            "[I 2025-05-20 06:52:29,210] Trial 8 finished with value: 0.5073300785145174 and parameters: {'n_estimators': 456, 'max_depth': 37, 'class_weight': 'balanced', 'max_features': 'log2', 'min_samples_split': 7}. Best is trial 0 with value: 0.5144690756479562.\n",
            "[I 2025-05-20 06:52:33,916] Trial 9 finished with value: 0.4948110433532366 and parameters: {'n_estimators': 401, 'max_depth': 21, 'class_weight': 'balanced', 'max_features': 'log2', 'min_samples_split': 6}. Best is trial 0 with value: 0.5144690756479562.\n",
            "[I 2025-05-20 06:52:51,955] Trial 10 finished with value: 0.5069289343628781 and parameters: {'n_estimators': 219, 'max_depth': 50, 'class_weight': 'balanced_subsample', 'max_features': 'sqrt', 'min_samples_split': 9}. Best is trial 0 with value: 0.5144690756479562.\n",
            "[I 2025-05-20 06:53:19,078] Trial 11 finished with value: 0.5059865561990469 and parameters: {'n_estimators': 349, 'max_depth': 50, 'class_weight': 'balanced_subsample', 'max_features': 'sqrt', 'min_samples_split': 10}. Best is trial 0 with value: 0.5144690756479562.\n",
            "[I 2025-05-20 06:53:39,017] Trial 12 finished with value: 0.5020323991242741 and parameters: {'n_estimators': 320, 'max_depth': 44, 'class_weight': 'balanced_subsample', 'max_features': 'sqrt', 'min_samples_split': 10}. Best is trial 0 with value: 0.5144690756479562.\n",
            "[I 2025-05-20 06:53:46,862] Trial 13 finished with value: 0.5019952674216476 and parameters: {'n_estimators': 371, 'max_depth': 30, 'class_weight': 'balanced_subsample', 'max_features': 'log2', 'min_samples_split': 8}. Best is trial 0 with value: 0.5144690756479562.\n",
            "[I 2025-05-20 06:54:13,107] Trial 14 finished with value: 0.5048560552920708 and parameters: {'n_estimators': 268, 'max_depth': 44, 'class_weight': 'balanced', 'max_features': 'sqrt', 'min_samples_split': 5}. Best is trial 0 with value: 0.5144690756479562.\n",
            "[I 2025-05-20 06:54:16,907] Trial 15 finished with value: 0.5015101377579059 and parameters: {'n_estimators': 211, 'max_depth': 32, 'class_weight': 'balanced_subsample', 'max_features': 'log2', 'min_samples_split': 9}. Best is trial 0 with value: 0.5144690756479562.\n",
            "[I 2025-05-20 06:54:22,702] Trial 16 finished with value: 0.49924714100660805 and parameters: {'n_estimators': 392, 'max_depth': 23, 'class_weight': 'balanced_subsample', 'max_features': 'log2', 'min_samples_split': 8}. Best is trial 0 with value: 0.5144690756479562.\n",
            "[I 2025-05-20 06:54:29,322] Trial 17 finished with value: 0.5102751768409847 and parameters: {'n_estimators': 310, 'max_depth': 47, 'class_weight': 'balanced', 'max_features': 'log2', 'min_samples_split': 10}. Best is trial 0 with value: 0.5144690756479562.\n",
            "[I 2025-05-20 06:54:42,883] Trial 18 finished with value: 0.5045823616901334 and parameters: {'n_estimators': 185, 'max_depth': 47, 'class_weight': 'balanced', 'max_features': 'sqrt', 'min_samples_split': 8}. Best is trial 0 with value: 0.5144690756479562.\n",
            "[I 2025-05-20 06:54:50,151] Trial 19 finished with value: 0.5128522249997753 and parameters: {'n_estimators': 279, 'max_depth': 41, 'class_weight': 'balanced_subsample', 'max_features': 'log2', 'min_samples_split': 6}. Best is trial 0 with value: 0.5144690756479562.\n"
          ]
        },
        {
          "output_type": "stream",
          "name": "stdout",
          "text": [
            "{'n_estimators': 267, 'max_depth': 50, 'class_weight': 'balanced_subsample', 'max_features': 'log2', 'min_samples_split': 8}\n"
          ]
        }
      ]
    },
    {
      "cell_type": "code",
      "source": [
        "from sklearn.metrics import classification_report\n",
        "\n",
        "final_model = RandomForestClassifier(**best_params, n_jobs=-1, random_state=42)\n",
        "final_model.fit(x_train, y_train)\n",
        "\n",
        "y_pred = final_model.predict(x_test)\n",
        "print(classification_report(y_test, y_pred))"
      ],
      "metadata": {
        "colab": {
          "base_uri": "https://localhost:8080/"
        },
        "id": "mHgsmbxlbv1h",
        "outputId": "3df81d16-546d-4c1a-b6f8-28a55fd97ca6"
      },
      "execution_count": null,
      "outputs": [
        {
          "output_type": "stream",
          "name": "stdout",
          "text": [
            "              precision    recall  f1-score   support\n",
            "\n",
            "   not bully       0.74      0.56      0.64      3068\n",
            "   religious       0.47      0.49      0.48      1515\n",
            "      sexual       0.54      0.35      0.43      1786\n",
            "      threat       0.18      0.23      0.20       339\n",
            "       troll       0.40      0.62      0.49      2093\n",
            "\n",
            "    accuracy                           0.51      8801\n",
            "   macro avg       0.47      0.45      0.45      8801\n",
            "weighted avg       0.55      0.51      0.51      8801\n",
            "\n"
          ]
        }
      ]
    }
  ]
}